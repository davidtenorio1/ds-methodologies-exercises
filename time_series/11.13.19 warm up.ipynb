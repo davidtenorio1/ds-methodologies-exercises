{
 "cells": [
  {
   "cell_type": "code",
   "execution_count": 1,
   "metadata": {},
   "outputs": [
    {
     "name": "stdout",
     "output_type": "stream",
     "text": [
      "{'Floor': 6,\n",
      " 'Instructors': [{'favoriteLanguages': ['python', 'clojure'], 'name': 'Ryan'},\n",
      "                 {'favoriteLanguages': ['python', 'R', 'java'],\n",
      "                  'name': 'Maggie'},\n",
      "                 {'favoriteLanguages': ['python', 'matlab'], 'name': 'David'},\n",
      "                 {'favoriteLanguages': ['python', 'bash'], 'name': 'Zach'}],\n",
      " 'Location': 'Blanco',\n",
      " 'Students': [{'examGrades': [62, 85, 80], 'name': 'Sally'},\n",
      "              {'examGrades': [88, 79, 67], 'name': 'Jane'},\n",
      "              {'examGrades': [94, 74, 95], 'name': 'Suzie'},\n",
      "              {'examGrades': [98, 96, 88], 'name': 'Billy'},\n",
      "              {'examGrades': [77, 92, 98], 'name': 'Ada'},\n",
      "              {'examGrades': [79, 76, 93], 'name': 'John'},\n",
      "              {'examGrades': [82, 64, 81], 'name': 'Thomas'},\n",
      "              {'examGrades': [93, 63, 90], 'name': 'Marie'},\n",
      "              {'examGrades': [92, 62, 87], 'name': 'Albert'},\n",
      "              {'examGrades': [69, 80, 94], 'name': 'Richard'},\n",
      "              {'examGrades': [92, 99, 93], 'name': 'Isaac'},\n",
      "              {'examGrades': [92, 62, 72], 'name': 'Alan'}],\n",
      " 'isActive': True}\n"
     ]
    }
   ],
   "source": [
    "import json\n",
    "import pandas as pd\n",
    "from pprint import pprint\n",
    "\n",
    "with open('./bayes.json') as f:\n",
    "    bayes = json.load(f)\n",
    "\n",
    "pprint(bayes)"
   ]
  },
  {
   "cell_type": "markdown",
   "metadata": {},
   "source": [
    "Write the code necessary to answer the following questions:\n",
    "\n",
    "- Print out a message that gives the location of the class using the location and the floor properties."
   ]
  },
  {
   "cell_type": "code",
   "execution_count": 2,
   "metadata": {},
   "outputs": [
    {
     "name": "stdout",
     "output_type": "stream",
     "text": [
      "The class is located in the Blanco room on floor 6\n"
     ]
    }
   ],
   "source": [
    "print('The class is located in the',bayes['Location'],'room on floor', bayes['Floor'])"
   ]
  },
  {
   "cell_type": "markdown",
   "metadata": {},
   "source": [
    "- If the class is active, print a message that says so."
   ]
  },
  {
   "cell_type": "code",
   "execution_count": 3,
   "metadata": {},
   "outputs": [
    {
     "name": "stdout",
     "output_type": "stream",
     "text": [
      "The class is active.\n"
     ]
    }
   ],
   "source": [
    "def active():\n",
    "    if bayes['isActive'] == True:\n",
    "        print('The class is active.')\n",
    "    else:\n",
    "        print('The class is not active.')\n",
    "        \n",
    "active()"
   ]
  },
  {
   "cell_type": "markdown",
   "metadata": {},
   "source": [
    "- Print out the number of students and number of instructors."
   ]
  },
  {
   "cell_type": "code",
   "execution_count": 4,
   "metadata": {},
   "outputs": [
    {
     "name": "stdout",
     "output_type": "stream",
     "text": [
      "There are 12 students.\n",
      "There are 4 instructors.\n"
     ]
    }
   ],
   "source": [
    "print('There are', len(bayes['Students']), 'students.')\n",
    "print('There are', len(bayes['Instructors']),'instructors.')"
   ]
  },
  {
   "cell_type": "markdown",
   "metadata": {},
   "source": [
    "- Print out the name of the instructor that has the most favorite languages."
   ]
  },
  {
   "cell_type": "code",
   "execution_count": 5,
   "metadata": {},
   "outputs": [
    {
     "name": "stdout",
     "output_type": "stream",
     "text": [
      "Maggie has the most favorite languages with 3 .\n"
     ]
    }
   ],
   "source": [
    "def most_languages():\n",
    "    max_languages = 0\n",
    "    index = 'a'\n",
    "    for i in bayes['Instructors']:\n",
    "        if len(i['favoriteLanguages']) > max_languages:\n",
    "            max_languages = len(i['favoriteLanguages'])\n",
    "            index = i\n",
    "    print(index['name'], 'has the most favorite languages with', max_languages, '.')\n",
    "\n",
    "most_languages()\n",
    "        "
   ]
  },
  {
   "cell_type": "markdown",
   "metadata": {},
   "source": [
    "- Import pandas and create a dataframe from the student data. What do you notice?\n",
    "\n",
    "\n",
    "    The exams are all listed in one column as a list. They are not separated into different columns."
   ]
  },
  {
   "cell_type": "code",
   "execution_count": 6,
   "metadata": {
    "scrolled": true
   },
   "outputs": [
    {
     "data": {
      "text/html": [
       "<div>\n",
       "<style scoped>\n",
       "    .dataframe tbody tr th:only-of-type {\n",
       "        vertical-align: middle;\n",
       "    }\n",
       "\n",
       "    .dataframe tbody tr th {\n",
       "        vertical-align: top;\n",
       "    }\n",
       "\n",
       "    .dataframe thead th {\n",
       "        text-align: right;\n",
       "    }\n",
       "</style>\n",
       "<table border=\"1\" class=\"dataframe\">\n",
       "  <thead>\n",
       "    <tr style=\"text-align: right;\">\n",
       "      <th></th>\n",
       "      <th>examGrades</th>\n",
       "      <th>name</th>\n",
       "    </tr>\n",
       "  </thead>\n",
       "  <tbody>\n",
       "    <tr>\n",
       "      <th>0</th>\n",
       "      <td>[62, 85, 80]</td>\n",
       "      <td>Sally</td>\n",
       "    </tr>\n",
       "    <tr>\n",
       "      <th>1</th>\n",
       "      <td>[88, 79, 67]</td>\n",
       "      <td>Jane</td>\n",
       "    </tr>\n",
       "    <tr>\n",
       "      <th>2</th>\n",
       "      <td>[94, 74, 95]</td>\n",
       "      <td>Suzie</td>\n",
       "    </tr>\n",
       "    <tr>\n",
       "      <th>3</th>\n",
       "      <td>[98, 96, 88]</td>\n",
       "      <td>Billy</td>\n",
       "    </tr>\n",
       "    <tr>\n",
       "      <th>4</th>\n",
       "      <td>[77, 92, 98]</td>\n",
       "      <td>Ada</td>\n",
       "    </tr>\n",
       "    <tr>\n",
       "      <th>5</th>\n",
       "      <td>[79, 76, 93]</td>\n",
       "      <td>John</td>\n",
       "    </tr>\n",
       "    <tr>\n",
       "      <th>6</th>\n",
       "      <td>[82, 64, 81]</td>\n",
       "      <td>Thomas</td>\n",
       "    </tr>\n",
       "    <tr>\n",
       "      <th>7</th>\n",
       "      <td>[93, 63, 90]</td>\n",
       "      <td>Marie</td>\n",
       "    </tr>\n",
       "    <tr>\n",
       "      <th>8</th>\n",
       "      <td>[92, 62, 87]</td>\n",
       "      <td>Albert</td>\n",
       "    </tr>\n",
       "    <tr>\n",
       "      <th>9</th>\n",
       "      <td>[69, 80, 94]</td>\n",
       "      <td>Richard</td>\n",
       "    </tr>\n",
       "    <tr>\n",
       "      <th>10</th>\n",
       "      <td>[92, 99, 93]</td>\n",
       "      <td>Isaac</td>\n",
       "    </tr>\n",
       "    <tr>\n",
       "      <th>11</th>\n",
       "      <td>[92, 62, 72]</td>\n",
       "      <td>Alan</td>\n",
       "    </tr>\n",
       "  </tbody>\n",
       "</table>\n",
       "</div>"
      ],
      "text/plain": [
       "      examGrades     name\n",
       "0   [62, 85, 80]    Sally\n",
       "1   [88, 79, 67]     Jane\n",
       "2   [94, 74, 95]    Suzie\n",
       "3   [98, 96, 88]    Billy\n",
       "4   [77, 92, 98]      Ada\n",
       "5   [79, 76, 93]     John\n",
       "6   [82, 64, 81]   Thomas\n",
       "7   [93, 63, 90]    Marie\n",
       "8   [92, 62, 87]   Albert\n",
       "9   [69, 80, 94]  Richard\n",
       "10  [92, 99, 93]    Isaac\n",
       "11  [92, 62, 72]     Alan"
      ]
     },
     "execution_count": 6,
     "metadata": {},
     "output_type": "execute_result"
    }
   ],
   "source": [
    "students = pd.DataFrame(bayes['Students'])\n",
    "students"
   ]
  }
 ],
 "metadata": {
  "kernelspec": {
   "display_name": "Python 3",
   "language": "python",
   "name": "python3"
  },
  "language_info": {
   "codemirror_mode": {
    "name": "ipython",
    "version": 3
   },
   "file_extension": ".py",
   "mimetype": "text/x-python",
   "name": "python",
   "nbconvert_exporter": "python",
   "pygments_lexer": "ipython3",
   "version": "3.7.3"
  }
 },
 "nbformat": 4,
 "nbformat_minor": 2
}
