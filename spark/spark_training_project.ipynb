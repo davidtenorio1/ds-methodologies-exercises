{
 "cells": [
  {
   "cell_type": "markdown",
   "metadata": {},
   "source": [
    "***\n",
    "# Goal\n",
    "***\n",
    "\n",
    "Use the San Antonio 311 training challenge to become familiar with Spark. Traverse the data science pipeline with Spark and end with models that predict whether or not a case will be late, and how many days a case will be late. "
   ]
  },
  {
   "cell_type": "markdown",
   "metadata": {},
   "source": [
    "This exercises uses the csv files from the San Antonio 311 call dataset."
   ]
  },
  {
   "cell_type": "code",
   "execution_count": 53,
   "metadata": {},
   "outputs": [],
   "source": [
    "import pandas as pd\n",
    "import numpy as np\n",
    "import pyspark\n",
    "from pyspark.sql import functions as F\n",
    "\n",
    "%matplotlib inline\n",
    "import matplotlib.pyplot as plt\n",
    "import seaborn as sns\n",
    "\n",
    "from pyspark.ml.feature import RFormula"
   ]
  },
  {
   "cell_type": "markdown",
   "metadata": {},
   "source": [
    "***\n",
    "# Acquire\n",
    "***"
   ]
  },
  {
   "cell_type": "markdown",
   "metadata": {},
   "source": [
    "## 1.) Read the case, department, and source data into their own spark dataframes."
   ]
  },
  {
   "cell_type": "code",
   "execution_count": 2,
   "metadata": {},
   "outputs": [],
   "source": [
    "spark = pyspark.sql.SparkSession.builder.getOrCreate()"
   ]
  },
  {
   "cell_type": "code",
   "execution_count": 3,
   "metadata": {},
   "outputs": [
    {
     "name": "stdout",
     "output_type": "stream",
     "text": [
      "-RECORD 0------------------------------------\n",
      " case_id              | 1014127332           \n",
      " case_opened_date     | 1/1/18 0:42          \n",
      " case_closed_date     | 1/1/18 12:29         \n",
      " SLA_due_date         | 9/26/20 0:42         \n",
      " case_late            | NO                   \n",
      " num_days_late        | -998.5087616000001   \n",
      " case_closed          | YES                  \n",
      " dept_division        | Field Operations     \n",
      " service_request_type | Stray Animal         \n",
      " SLA_days             | 999.0                \n",
      " case_status          | Closed               \n",
      " source_id            | svcCRMLS             \n",
      " request_address      | 2315  EL PASO ST,... \n",
      " council_district     | 5                    \n",
      "-RECORD 1------------------------------------\n",
      " case_id              | 1014127333           \n",
      " case_opened_date     | 1/1/18 0:46          \n",
      " case_closed_date     | 1/3/18 8:11          \n",
      " SLA_due_date         | 1/5/18 8:30          \n",
      " case_late            | NO                   \n",
      " num_days_late        | -2.0126041669999997  \n",
      " case_closed          | YES                  \n",
      " dept_division        | Storm Water          \n",
      " service_request_type | Removal Of Obstru... \n",
      " SLA_days             | 4.322222222          \n",
      " case_status          | Closed               \n",
      " source_id            | svcCRMSS             \n",
      " request_address      | 2215  GOLIAD RD, ... \n",
      " council_district     | 3                    \n",
      "only showing top 2 rows\n",
      "\n"
     ]
    }
   ],
   "source": [
    "case = spark.read.csv(\"case.csv\", sep=\",\", header=True, inferSchema=True)\n",
    "case.show(2,vertical=True)"
   ]
  },
  {
   "cell_type": "code",
   "execution_count": 4,
   "metadata": {},
   "outputs": [
    {
     "name": "stdout",
     "output_type": "stream",
     "text": [
      "-RECORD 0--------------------------------------\n",
      " dept_division          | 311 Call Center      \n",
      " dept_name              | Customer Service     \n",
      " standardized_dept_name | Customer Service     \n",
      " dept_subject_to_SLA    | YES                  \n",
      "-RECORD 1--------------------------------------\n",
      " dept_division          | Brush                \n",
      " dept_name              | Solid Waste Manag... \n",
      " standardized_dept_name | Solid Waste          \n",
      " dept_subject_to_SLA    | YES                  \n",
      "only showing top 2 rows\n",
      "\n"
     ]
    }
   ],
   "source": [
    "department = spark.read.csv(\"dept.csv\", sep=\",\", header=True, inferSchema=True)\n",
    "department.show(2,vertical=True)"
   ]
  },
  {
   "cell_type": "code",
   "execution_count": 5,
   "metadata": {},
   "outputs": [
    {
     "name": "stdout",
     "output_type": "stream",
     "text": [
      "-RECORD 0---------------------------\n",
      " source_id       | 100137           \n",
      " source_username | Merlene Blodgett \n",
      "-RECORD 1---------------------------\n",
      " source_id       | 103582           \n",
      " source_username | Carmen Cura      \n",
      "only showing top 2 rows\n",
      "\n"
     ]
    }
   ],
   "source": [
    "source = spark.read.csv(\"source.csv\", sep=\",\", header=True, inferSchema=True)\n",
    "source.show(2,vertical=True)"
   ]
  },
  {
   "cell_type": "markdown",
   "metadata": {},
   "source": [
    "## 2.) Let's see how writing to the local disk works in spark:"
   ]
  },
  {
   "cell_type": "markdown",
   "metadata": {},
   "source": [
    "- Write the code necessary to store the source data in both csv and json format, store these as sources_csv and sources_json"
   ]
  },
  {
   "cell_type": "code",
   "execution_count": 6,
   "metadata": {},
   "outputs": [],
   "source": [
    "source.write.json(\"source_json\", mode=\"overwrite\")"
   ]
  },
  {
   "cell_type": "code",
   "execution_count": 7,
   "metadata": {},
   "outputs": [],
   "source": [
    "source.write.csv(\"source_csv\", mode=\"overwrite\")"
   ]
  },
  {
   "cell_type": "markdown",
   "metadata": {},
   "source": [
    "- Inspect your folder structure. What do you notice?"
   ]
  },
  {
   "cell_type": "markdown",
   "metadata": {},
   "source": [
    "The written files are stored in their own folders. In addition to the respective csv and json files, a text file and hidden .crc file is created as well. "
   ]
  },
  {
   "cell_type": "markdown",
   "metadata": {},
   "source": [
    "***\n",
    "# Prepare\n",
    "***"
   ]
  },
  {
   "cell_type": "markdown",
   "metadata": {},
   "source": [
    "## 3.) Inspect the data in your dataframes. Are the data types appropriate? Write the code necessary to cast the values to the appropriate types."
   ]
  },
  {
   "cell_type": "markdown",
   "metadata": {},
   "source": [
    "### Case df"
   ]
  },
  {
   "cell_type": "code",
   "execution_count": 8,
   "metadata": {},
   "outputs": [
    {
     "name": "stdout",
     "output_type": "stream",
     "text": [
      "-RECORD 0------------------------------------\n",
      " case_id              | 1014127332           \n",
      " case_opened_date     | 1/1/18 0:42          \n",
      " case_closed_date     | 1/1/18 12:29         \n",
      " SLA_due_date         | 9/26/20 0:42         \n",
      " case_late            | NO                   \n",
      " num_days_late        | -998.5087616000001   \n",
      " case_closed          | YES                  \n",
      " dept_division        | Field Operations     \n",
      " service_request_type | Stray Animal         \n",
      " SLA_days             | 999.0                \n",
      " case_status          | Closed               \n",
      " source_id            | svcCRMLS             \n",
      " request_address      | 2315  EL PASO ST,... \n",
      " council_district     | 5                    \n",
      "-RECORD 1------------------------------------\n",
      " case_id              | 1014127333           \n",
      " case_opened_date     | 1/1/18 0:46          \n",
      " case_closed_date     | 1/3/18 8:11          \n",
      " SLA_due_date         | 1/5/18 8:30          \n",
      " case_late            | NO                   \n",
      " num_days_late        | -2.0126041669999997  \n",
      " case_closed          | YES                  \n",
      " dept_division        | Storm Water          \n",
      " service_request_type | Removal Of Obstru... \n",
      " SLA_days             | 4.322222222          \n",
      " case_status          | Closed               \n",
      " source_id            | svcCRMSS             \n",
      " request_address      | 2215  GOLIAD RD, ... \n",
      " council_district     | 3                    \n",
      "only showing top 2 rows\n",
      "\n"
     ]
    }
   ],
   "source": [
    "case.show(2, vertical = True)"
   ]
  },
  {
   "cell_type": "code",
   "execution_count": 9,
   "metadata": {},
   "outputs": [
    {
     "name": "stdout",
     "output_type": "stream",
     "text": [
      "root\n",
      " |-- case_id: integer (nullable = true)\n",
      " |-- case_opened_date: string (nullable = true)\n",
      " |-- case_closed_date: string (nullable = true)\n",
      " |-- SLA_due_date: string (nullable = true)\n",
      " |-- case_late: string (nullable = true)\n",
      " |-- num_days_late: double (nullable = true)\n",
      " |-- case_closed: string (nullable = true)\n",
      " |-- dept_division: string (nullable = true)\n",
      " |-- service_request_type: string (nullable = true)\n",
      " |-- SLA_days: double (nullable = true)\n",
      " |-- case_status: string (nullable = true)\n",
      " |-- source_id: string (nullable = true)\n",
      " |-- request_address: string (nullable = true)\n",
      " |-- council_district: integer (nullable = true)\n",
      "\n"
     ]
    }
   ],
   "source": [
    "case.printSchema()"
   ]
  },
  {
   "cell_type": "markdown",
   "metadata": {},
   "source": [
    "### Takeaway: case_closed and case_late should be booleans, council_district a string, and date columns in datatime format. "
   ]
  },
  {
   "cell_type": "code",
   "execution_count": 10,
   "metadata": {},
   "outputs": [],
   "source": [
    "# Make updates\n",
    "case = (case\n",
    "        .withColumn('council_district', case.council_district.cast('string'))\n",
    "        .withColumn('case_late', case.case_late.cast('boolean'))\n",
    "        .withColumn('case_closed', case.case_closed.cast('boolean'))\n",
    "        .withColumn(\"case_opened_date\", F.to_timestamp(\"case_opened_date\", \"M/d/yy H:mm\"))\n",
    "        .withColumn(\"case_closed_date\", F.to_timestamp(\"case_closed_date\", \"M/d/yy H:mm\"))\n",
    "        .withColumn(\"SLA_due_date\", F.to_timestamp(\"SLA_due_date\", \"M/d/yy H:mm\"))\n",
    "       )\n"
   ]
  },
  {
   "cell_type": "code",
   "execution_count": 11,
   "metadata": {},
   "outputs": [
    {
     "name": "stdout",
     "output_type": "stream",
     "text": [
      "root\n",
      " |-- case_id: integer (nullable = true)\n",
      " |-- case_opened_date: timestamp (nullable = true)\n",
      " |-- case_closed_date: timestamp (nullable = true)\n",
      " |-- SLA_due_date: timestamp (nullable = true)\n",
      " |-- case_late: boolean (nullable = true)\n",
      " |-- num_days_late: double (nullable = true)\n",
      " |-- case_closed: boolean (nullable = true)\n",
      " |-- dept_division: string (nullable = true)\n",
      " |-- service_request_type: string (nullable = true)\n",
      " |-- SLA_days: double (nullable = true)\n",
      " |-- case_status: string (nullable = true)\n",
      " |-- source_id: string (nullable = true)\n",
      " |-- request_address: string (nullable = true)\n",
      " |-- council_district: string (nullable = true)\n",
      "\n"
     ]
    }
   ],
   "source": [
    "# Confirm updates\n",
    "case.printSchema()"
   ]
  },
  {
   "cell_type": "markdown",
   "metadata": {},
   "source": [
    "### Department df"
   ]
  },
  {
   "cell_type": "code",
   "execution_count": 12,
   "metadata": {},
   "outputs": [
    {
     "name": "stdout",
     "output_type": "stream",
     "text": [
      "-RECORD 0--------------------------------------\n",
      " dept_division          | 311 Call Center      \n",
      " dept_name              | Customer Service     \n",
      " standardized_dept_name | Customer Service     \n",
      " dept_subject_to_SLA    | YES                  \n",
      "-RECORD 1--------------------------------------\n",
      " dept_division          | Brush                \n",
      " dept_name              | Solid Waste Manag... \n",
      " standardized_dept_name | Solid Waste          \n",
      " dept_subject_to_SLA    | YES                  \n",
      "only showing top 2 rows\n",
      "\n"
     ]
    }
   ],
   "source": [
    "department.show(2, vertical = True)"
   ]
  },
  {
   "cell_type": "code",
   "execution_count": 13,
   "metadata": {},
   "outputs": [
    {
     "name": "stdout",
     "output_type": "stream",
     "text": [
      "root\n",
      " |-- dept_division: string (nullable = true)\n",
      " |-- dept_name: string (nullable = true)\n",
      " |-- standardized_dept_name: string (nullable = true)\n",
      " |-- dept_subject_to_SLA: string (nullable = true)\n",
      "\n"
     ]
    }
   ],
   "source": [
    "department.printSchema()"
   ]
  },
  {
   "cell_type": "markdown",
   "metadata": {},
   "source": [
    "### Takeaway: dept_subject_to_SLA  should be a boolean"
   ]
  },
  {
   "cell_type": "code",
   "execution_count": 14,
   "metadata": {},
   "outputs": [],
   "source": [
    "# Make update\n",
    "department = department.withColumn('dept_subject_to_SLA', department.dept_subject_to_SLA.cast('boolean'))"
   ]
  },
  {
   "cell_type": "code",
   "execution_count": 15,
   "metadata": {},
   "outputs": [
    {
     "name": "stdout",
     "output_type": "stream",
     "text": [
      "root\n",
      " |-- dept_division: string (nullable = true)\n",
      " |-- dept_name: string (nullable = true)\n",
      " |-- standardized_dept_name: string (nullable = true)\n",
      " |-- dept_subject_to_SLA: boolean (nullable = true)\n",
      "\n"
     ]
    }
   ],
   "source": [
    "# Check update\n",
    "department.printSchema()"
   ]
  },
  {
   "cell_type": "markdown",
   "metadata": {},
   "source": [
    "### Source df"
   ]
  },
  {
   "cell_type": "code",
   "execution_count": 16,
   "metadata": {},
   "outputs": [
    {
     "name": "stdout",
     "output_type": "stream",
     "text": [
      "+---------+----------------+\n",
      "|source_id| source_username|\n",
      "+---------+----------------+\n",
      "|   100137|Merlene Blodgett|\n",
      "|   103582|     Carmen Cura|\n",
      "+---------+----------------+\n",
      "only showing top 2 rows\n",
      "\n"
     ]
    }
   ],
   "source": [
    "source.show(2)"
   ]
  },
  {
   "cell_type": "code",
   "execution_count": 17,
   "metadata": {},
   "outputs": [
    {
     "name": "stdout",
     "output_type": "stream",
     "text": [
      "root\n",
      " |-- source_id: string (nullable = true)\n",
      " |-- source_username: string (nullable = true)\n",
      "\n"
     ]
    }
   ],
   "source": [
    "source.printSchema()"
   ]
  },
  {
   "cell_type": "markdown",
   "metadata": {},
   "source": [
    "### Takeaway: Looks good"
   ]
  },
  {
   "cell_type": "markdown",
   "metadata": {},
   "source": [
    "### Join separate dataframes into one so we can explore"
   ]
  },
  {
   "cell_type": "code",
   "execution_count": 18,
   "metadata": {},
   "outputs": [],
   "source": [
    "df = case.join(department, on='dept_division').join(source, on='source_id')"
   ]
  },
  {
   "cell_type": "code",
   "execution_count": 19,
   "metadata": {},
   "outputs": [
    {
     "name": "stdout",
     "output_type": "stream",
     "text": [
      "-RECORD 0--------------------------------------\n",
      " source_id              | svcCRMLS             \n",
      " dept_division          | Field Operations     \n",
      " case_id                | 1014127332           \n",
      " case_opened_date       | 2018-01-01 00:42:00  \n",
      " case_closed_date       | 2018-01-01 12:29:00  \n",
      " SLA_due_date           | 2020-09-26 00:42:00  \n",
      " case_late              | false                \n",
      " num_days_late          | -998.5087616000001   \n",
      " case_closed            | true                 \n",
      " service_request_type   | Stray Animal         \n",
      " SLA_days               | 999.0                \n",
      " case_status            | Closed               \n",
      " request_address        | 2315  EL PASO ST,... \n",
      " council_district       | 5                    \n",
      " dept_name              | Animal Care Services \n",
      " standardized_dept_name | Animal Care Services \n",
      " dept_subject_to_SLA    | true                 \n",
      " source_username        | svcCRMLS             \n",
      "only showing top 1 row\n",
      "\n"
     ]
    }
   ],
   "source": [
    "df.show(1, vertical = True)"
   ]
  },
  {
   "cell_type": "markdown",
   "metadata": {},
   "source": [
    "***\n",
    "# Explore\n",
    "***"
   ]
  },
  {
   "cell_type": "markdown",
   "metadata": {},
   "source": [
    "Note: You might have noticed that the latest date in the dataset is fairly far off from the present day. To account for this, replace any occurances of the current time with the maximum date from the dataset."
   ]
  },
  {
   "cell_type": "code",
   "execution_count": 20,
   "metadata": {},
   "outputs": [
    {
     "name": "stdout",
     "output_type": "stream",
     "text": [
      "855269 18\n"
     ]
    }
   ],
   "source": [
    "# Shape of data\n",
    "print(df.count(),len(df.columns))"
   ]
  },
  {
   "cell_type": "code",
   "execution_count": 21,
   "metadata": {},
   "outputs": [
    {
     "name": "stdout",
     "output_type": "stream",
     "text": [
      "+---------------------+\n",
      "|max(case_opened_date)|\n",
      "+---------------------+\n",
      "|  2018-08-08 10:38:00|\n",
      "+---------------------+\n",
      "\n",
      "+---------------------+\n",
      "|max(case_closed_date)|\n",
      "+---------------------+\n",
      "|  2018-08-08 10:38:00|\n",
      "+---------------------+\n",
      "\n"
     ]
    }
   ],
   "source": [
    "# Max date of data\n",
    "df.agg({'case_opened_date':'max'}).show()\n",
    "df.agg({'case_closed_date':'max'}).show()"
   ]
  },
  {
   "cell_type": "markdown",
   "metadata": {},
   "source": [
    "-  How old is the latest (in terms of days past SLA) currently open issue? "
   ]
  },
  {
   "cell_type": "code",
   "execution_count": 22,
   "metadata": {},
   "outputs": [
    {
     "name": "stdout",
     "output_type": "stream",
     "text": [
      "-RECORD 0--------------------------------------\n",
      " source_id              | CRM_Listener         \n",
      " dept_division          | Code Enforcement     \n",
      " case_id                | 1014759619           \n",
      " case_opened_date       | 2018-08-08 10:38:00  \n",
      " case_closed_date       | null                 \n",
      " SLA_due_date           | 2018-08-22 10:38:00  \n",
      " case_late              | false                \n",
      " num_days_late          | -13.44305556         \n",
      " case_closed            | false                \n",
      " service_request_type   | Bandit Signs         \n",
      " SLA_days               | 14.0                 \n",
      " case_status            | Open                 \n",
      " request_address        | 1935  MILITARY DR... \n",
      " council_district       | 3                    \n",
      " dept_name              | Code Enforcement ... \n",
      " standardized_dept_name | DSD/Code Enforcement \n",
      " dept_subject_to_SLA    | true                 \n",
      " source_username        | CRM_Listener         \n",
      "only showing top 1 row\n",
      "\n"
     ]
    }
   ],
   "source": [
    "df.filter(df.case_status == 'Open').sort('case_opened_date',ascending = 0).show(1,vertical=True)"
   ]
  },
  {
   "cell_type": "markdown",
   "metadata": {},
   "source": [
    "- How long has the oldest (in terms of days since opened) currently opened issue been open"
   ]
  },
  {
   "cell_type": "code",
   "execution_count": 23,
   "metadata": {},
   "outputs": [
    {
     "name": "stdout",
     "output_type": "stream",
     "text": [
      "-RECORD 0--------------------------------------\n",
      " source_id              | svcCRMSS             \n",
      " dept_division          | Code Enforcement     \n",
      " case_id                | 1013225646           \n",
      " case_opened_date       | 2017-01-01 13:48:00  \n",
      " case_closed_date       | null                 \n",
      " SLA_due_date           | 2017-01-17 08:30:00  \n",
      " case_late              | true                 \n",
      " num_days_late          | 348.6458333          \n",
      " case_closed            | false                \n",
      " service_request_type   | No Address Posted    \n",
      " SLA_days               | 15.77859954          \n",
      " case_status            | Open                 \n",
      " request_address        | 7299  SHADOW RIDG... \n",
      " council_district       | 6                    \n",
      " dept_name              | Code Enforcement ... \n",
      " standardized_dept_name | DSD/Code Enforcement \n",
      " dept_subject_to_SLA    | true                 \n",
      " source_username        | svcCRMSS             \n",
      "only showing top 1 row\n",
      "\n"
     ]
    }
   ],
   "source": [
    "df.filter(df.case_status == 'Open').sort('case_opened_date',ascending = 1).show(1,vertical=True)"
   ]
  },
  {
   "cell_type": "markdown",
   "metadata": {},
   "source": [
    "- How many Stray Animal cases are there?"
   ]
  },
  {
   "cell_type": "code",
   "execution_count": 24,
   "metadata": {},
   "outputs": [
    {
     "data": {
      "text/plain": [
       "27361"
      ]
     },
     "execution_count": 24,
     "metadata": {},
     "output_type": "execute_result"
    }
   ],
   "source": [
    "df.filter(df.service_request_type == 'Stray Animal').count()"
   ]
  },
  {
   "cell_type": "markdown",
   "metadata": {},
   "source": [
    "- How many service requests that are assigned to the Field Operations department `dept_division` are not classified as `Officer Standby` request type (service_request_type)?"
   ]
  },
  {
   "cell_type": "code",
   "execution_count": 25,
   "metadata": {},
   "outputs": [
    {
     "data": {
      "text/plain": [
       "119362"
      ]
     },
     "execution_count": 25,
     "metadata": {},
     "output_type": "execute_result"
    }
   ],
   "source": [
    "df.filter((df.service_request_type != ' Officer Standby') & (df.dept_division == 'Field Operations')).count()"
   ]
  },
  {
   "cell_type": "markdown",
   "metadata": {},
   "source": [
    "- Convert the council_district column to a string column"
   ]
  },
  {
   "cell_type": "markdown",
   "metadata": {},
   "source": [
    "Already done."
   ]
  },
  {
   "cell_type": "markdown",
   "metadata": {},
   "source": [
    "- Extract the year from the `case_closed_date` column."
   ]
  },
  {
   "cell_type": "code",
   "execution_count": 26,
   "metadata": {},
   "outputs": [
    {
     "name": "stdout",
     "output_type": "stream",
     "text": [
      "+-----------+\n",
      "|year_closed|\n",
      "+-----------+\n",
      "|       2018|\n",
      "|       2018|\n",
      "|       2018|\n",
      "+-----------+\n",
      "only showing top 3 rows\n",
      "\n"
     ]
    }
   ],
   "source": [
    "df.select(F.regexp_extract(df.case_closed_date, r'\\d+',0).alias('year_closed')).show(3)"
   ]
  },
  {
   "cell_type": "markdown",
   "metadata": {},
   "source": [
    "- Convert `num_days_late` from days to hours in new columns `num_hours_late`."
   ]
  },
  {
   "cell_type": "code",
   "execution_count": 27,
   "metadata": {},
   "outputs": [
    {
     "name": "stdout",
     "output_type": "stream",
     "text": [
      "+--------------+\n",
      "|num_hours_late|\n",
      "+--------------+\n",
      "|     -23964.21|\n",
      "|         -48.3|\n",
      "|        -72.54|\n",
      "|       -360.28|\n",
      "|          8.93|\n",
      "+--------------+\n",
      "only showing top 5 rows\n",
      "\n"
     ]
    }
   ],
   "source": [
    "df.select((F.round((df.num_days_late * 24),2)).alias('num_hours_late')).show(5)"
   ]
  },
  {
   "cell_type": "markdown",
   "metadata": {},
   "source": [
    "- Join the case data with the source and department data."
   ]
  },
  {
   "cell_type": "markdown",
   "metadata": {},
   "source": [
    "Already done."
   ]
  },
  {
   "cell_type": "markdown",
   "metadata": {},
   "source": [
    "- Are there any cases that do not have a request source?"
   ]
  },
  {
   "cell_type": "code",
   "execution_count": 28,
   "metadata": {},
   "outputs": [
    {
     "name": "stdout",
     "output_type": "stream",
     "text": [
      "+--------------------+\n",
      "|service_request_type|\n",
      "+--------------------+\n",
      "|Minimum Housing-O...|\n",
      "|        Tree Removal|\n",
      "| Service Information|\n",
      "|    Sign Maintenance|\n",
      "|Park Building Mai...|\n",
      "|Brush Property Da...|\n",
      "|Graffiti: Private...|\n",
      "|Traffic Sign Graf...|\n",
      "|License Renewal I...|\n",
      "|Used/Scrap Tire F...|\n",
      "|Guardrail- New Re...|\n",
      "|Markings Installa...|\n",
      "|CCO_Request for R...|\n",
      "|   Sewer Line Broken|\n",
      "|Zoning: Multi-Fam...|\n",
      "|Engineering Inves...|\n",
      "|    Zoning: Setbacks|\n",
      "|  Traffic Sign Faded|\n",
      "|     Permits, Fences|\n",
      "|Certificates of O...|\n",
      "+--------------------+\n",
      "only showing top 20 rows\n",
      "\n"
     ]
    }
   ],
   "source": [
    "df.select(df.service_request_type).distinct().show()"
   ]
  },
  {
   "cell_type": "markdown",
   "metadata": {},
   "source": [
    "- What are the top 10 service request types in terms of number of requests?"
   ]
  },
  {
   "cell_type": "code",
   "execution_count": 29,
   "metadata": {},
   "outputs": [
    {
     "name": "stdout",
     "output_type": "stream",
     "text": [
      "+--------------------+-----+\n",
      "|service_request_type|count|\n",
      "+--------------------+-----+\n",
      "|           No Pickup|89210|\n",
      "|Overgrown Yard/Trash|66403|\n",
      "|        Bandit Signs|32968|\n",
      "|        Damaged Cart|31163|\n",
      "|Front Or Side Yar...|28920|\n",
      "|        Stray Animal|27361|\n",
      "|Aggressive Animal...|25492|\n",
      "|Cart Exchange Req...|22608|\n",
      "|Junk Vehicle On P...|21649|\n",
      "|     Pot Hole Repair|20827|\n",
      "+--------------------+-----+\n",
      "only showing top 10 rows\n",
      "\n"
     ]
    }
   ],
   "source": [
    "df.groupby(df.service_request_type).count().sort('count', ascending=False).show(10)"
   ]
  },
  {
   "cell_type": "markdown",
   "metadata": {},
   "source": [
    "- What are the top 10 service request types in terms of average days late?"
   ]
  },
  {
   "cell_type": "code",
   "execution_count": 30,
   "metadata": {},
   "outputs": [
    {
     "name": "stdout",
     "output_type": "stream",
     "text": [
      "+--------------------+------------------+\n",
      "|service_request_type|avg(num_days_late)|\n",
      "+--------------------+------------------+\n",
      "|  Zoning: Junk Yards| 175.9563621042095|\n",
      "|Labeling for Used...|162.43032902285717|\n",
      "|Record Keeping of...|153.99724039428568|\n",
      "|Signage Requied f...|151.63868055333333|\n",
      "|Storage of Used M...|     142.112556415|\n",
      "|Zoning: Recycle Yard|135.92851612479797|\n",
      "|Donation Containe...|131.75610506358706|\n",
      "|License Requied U...|128.79828704142858|\n",
      "|Traffic Signal Gr...|101.79846062200002|\n",
      "|           Complaint| 72.87050230311695|\n",
      "+--------------------+------------------+\n",
      "only showing top 10 rows\n",
      "\n"
     ]
    }
   ],
   "source": [
    "df.groupby(df.service_request_type).mean('num_days_late').sort('avg(num_days_late)', ascending=False).show(10)"
   ]
  },
  {
   "cell_type": "markdown",
   "metadata": {},
   "source": [
    "- Does number of days late depend on department?"
   ]
  },
  {
   "cell_type": "code",
   "execution_count": 31,
   "metadata": {},
   "outputs": [
    {
     "name": "stdout",
     "output_type": "stream",
     "text": [
      "+--------------------+------------------+\n",
      "|       dept_division|avg(num_days_late)|\n",
      "+--------------------+------------------+\n",
      "|Code Enforcement ...|135.92851612479797|\n",
      "|        Reservations|       66.03116319|\n",
      "|     311 Call Center|59.737091496300785|\n",
      "|Director's Office...|37.570646702950086|\n",
      "|Engineering Division| 13.43372455586971|\n",
      "|               Shops|  9.64126176872269|\n",
      "|           Tree Crew| 4.723282812065399|\n",
      "|         Solid Waste|3.5190239198762248|\n",
      "|              Trades| 3.231977141276932|\n",
      "|Clean and Green N...| 1.691468919487805|\n",
      "+--------------------+------------------+\n",
      "only showing top 10 rows\n",
      "\n"
     ]
    }
   ],
   "source": [
    "# Yes, it does.\n",
    "df.groupby(df.dept_division).mean('num_days_late').sort('avg(num_days_late)', ascending= False).show(10)"
   ]
  },
  {
   "cell_type": "markdown",
   "metadata": {},
   "source": [
    "- How do number of days late depend on department and request type?"
   ]
  },
  {
   "cell_type": "code",
   "execution_count": 32,
   "metadata": {},
   "outputs": [
    {
     "name": "stdout",
     "output_type": "stream",
     "text": [
      "+---------------------------+--------------------------------------+------------------+\n",
      "|dept_division              |service_request_type                  |avg(num_days_late)|\n",
      "+---------------------------+--------------------------------------+------------------+\n",
      "|Code Enforcement           |Zoning: Junk Yards                    |175.9563621042095 |\n",
      "|Code Enforcement (IntExp)  |Labeling for Used Mattress            |162.43032902285717|\n",
      "|Code Enforcement (IntExp)  |Record Keeping of Used Mattresses     |153.99724039428568|\n",
      "|Code Enforcement (IntExp)  |Signage Requied for Sale of Used Mattr|151.63868055333333|\n",
      "|Code Enforcement (IntExp)  |Storage of Used Mattress              |142.112556415     |\n",
      "|Code Enforcement (Internal)|Zoning: Recycle Yard                  |135.92851612479797|\n",
      "|Code Enforcement           |Donation Container Enforcement        |131.75610506358706|\n",
      "|Code Enforcement (IntExp)  |License Requied Used Mattress Sales   |128.79828704142858|\n",
      "|Signals                    |Traffic Signal Graffiti               |101.79846062200002|\n",
      "|Code Enforcement (IntExp)  |Used Mattress Inspection              |92.93570056835293 |\n",
      "+---------------------------+--------------------------------------+------------------+\n",
      "only showing top 10 rows\n",
      "\n"
     ]
    }
   ],
   "source": [
    "# Number of days late depends on the department, but not so much on the request type\n",
    "df.groupby(df.dept_division, df.service_request_type).mean('num_days_late').sort('avg(num_days_late)', ascending= False).show(10, truncate = False)"
   ]
  },
  {
   "cell_type": "markdown",
   "metadata": {},
   "source": [
    "- How many different cases are there, by department?"
   ]
  },
  {
   "cell_type": "code",
   "execution_count": 44,
   "metadata": {},
   "outputs": [
    {
     "name": "stdout",
     "output_type": "stream",
     "text": [
      "+-------------------------+\n",
      "|dept_name                |\n",
      "+-------------------------+\n",
      "|Customer Service         |\n",
      "|Code Enforcement Services|\n",
      "|null                     |\n",
      "|City Council             |\n",
      "|Development Services     |\n",
      "|Animal Care Services     |\n",
      "|Metro Health             |\n",
      "|Solid Waste Management   |\n",
      "|Trans & Cap Improvements |\n",
      "|Parks and Recreation     |\n",
      "+-------------------------+\n",
      "\n"
     ]
    }
   ],
   "source": [
    "df.select(df.dept_name).distinct().sort('dept_division', ascending=1).show(50, truncate=False)"
   ]
  },
  {
   "cell_type": "code",
   "execution_count": 50,
   "metadata": {},
   "outputs": [
    {
     "name": "stdout",
     "output_type": "stream",
     "text": [
      "+-------------------------+------+\n",
      "|dept_name                |count |\n",
      "+-------------------------+------+\n",
      "|Code Enforcement Services|321984|\n",
      "|Solid Waste Management   |286287|\n",
      "|Animal Care Services     |119362|\n",
      "|Trans & Cap Improvements |97841 |\n",
      "|Parks and Recreation     |19964 |\n",
      "|Metro Health             |5313  |\n",
      "|Customer Service         |2889  |\n",
      "|Development Services     |1397  |\n",
      "|null                     |198   |\n",
      "|City Council             |34    |\n",
      "+-------------------------+------+\n",
      "\n"
     ]
    }
   ],
   "source": [
    "# Cases by department \n",
    "df.groupby(df.dept_name).count().sort('count',ascending=False).show(39, truncate = False)"
   ]
  },
  {
   "cell_type": "code",
   "execution_count": 52,
   "metadata": {},
   "outputs": [
    {
     "data": {
      "text/plain": [
       "Text(0.5, 0, 'Number of Cases')"
      ]
     },
     "execution_count": 52,
     "metadata": {},
     "output_type": "execute_result"
    },
    {
     "data": {
      "image/png": "[encoded data removed]",
      "text/plain": [
       "<Figure size 1008x360 with 1 Axes>"
      ]
     },
     "metadata": {
      "needs_background": "light"
     },
     "output_type": "display_data"
    }
   ],
   "source": [
    "# Cases by department \n",
    "pdf = df.groupby(df.dept_name).count().sort('count',ascending=False).toPandas()\n",
    "pdf.set_index('dept_name').head().plot.barh(width=1, color='chocolate', edgecolor=\"black\", figsize=(14, 5))\n",
    "plt.title(\"Number of Cases for Top 5 Departments\")\n",
    "plt.ylabel(\"\")\n",
    "plt.xlabel(\"Number of Cases\")"
   ]
  },
  {
   "cell_type": "markdown",
   "metadata": {},
   "source": [
    "- Does the percentage of cases that are late vary by department?"
   ]
  },
  {
   "cell_type": "code",
   "execution_count": 35,
   "metadata": {},
   "outputs": [
    {
     "name": "stdout",
     "output_type": "stream",
     "text": [
      "-RECORD 0--------------------------------------\n",
      " source_id              | svcCRMSS             \n",
      " dept_division          | Field Operations     \n",
      " case_id                | 1014127336           \n",
      " case_opened_date       | 2018-01-01 01:34:00  \n",
      " case_closed_date       | 2018-01-01 13:29:00  \n",
      " SLA_due_date           | 2018-01-01 04:34:00  \n",
      " case_late              | true                 \n",
      " num_days_late          | 0.37216435200000003  \n",
      " case_closed            | true                 \n",
      " service_request_type   | Animal Cruelty(Cr... \n",
      " SLA_days               | 0.125                \n",
      " case_status            | Closed               \n",
      " request_address        | 734  CLEARVIEW DR... \n",
      " council_district       | 7                    \n",
      " dept_name              | Animal Care Services \n",
      " standardized_dept_name | Animal Care Services \n",
      " dept_subject_to_SLA    | true                 \n",
      " source_username        | svcCRMSS             \n",
      "-RECORD 1--------------------------------------\n",
      " source_id              | svcCRMSS             \n",
      " dept_division          | Field Operations     \n",
      " case_id                | 1014127387           \n",
      " case_opened_date       | 2018-01-01 08:57:00  \n",
      " case_closed_date       | 2018-01-01 12:42:00  \n",
      " SLA_due_date           | 2018-01-01 11:57:00  \n",
      " case_late              | true                 \n",
      " num_days_late          | 0.03150463           \n",
      " case_closed            | true                 \n",
      " service_request_type   | Animal Cruelty(Cr... \n",
      " SLA_days               | 0.125                \n",
      " case_status            | Closed               \n",
      " request_address        | DATAPOINT and FRE... \n",
      " council_district       | 8                    \n",
      " dept_name              | Animal Care Services \n",
      " standardized_dept_name | Animal Care Services \n",
      " dept_subject_to_SLA    | true                 \n",
      " source_username        | svcCRMSS             \n",
      "-RECORD 2--------------------------------------\n",
      " source_id              | ns16326              \n",
      " dept_division          | Field Operations     \n",
      " case_id                | 1014127397           \n",
      " case_opened_date       | 2018-01-01 09:21:00  \n",
      " case_closed_date       | 2018-03-23 15:14:00  \n",
      " SLA_due_date           | 2018-01-01 21:21:00  \n",
      " case_late              | true                 \n",
      " num_days_late          | 80.74537037          \n",
      " case_closed            | true                 \n",
      " service_request_type   | Aggressive Animal... \n",
      " SLA_days               | 0.5                  \n",
      " case_status            | Closed               \n",
      " request_address        | 162  HOWLE, San A... \n",
      " council_district       | 3                    \n",
      " dept_name              | Animal Care Services \n",
      " standardized_dept_name | Animal Care Services \n",
      " dept_subject_to_SLA    | true                 \n",
      " source_username        | Norma K. Sotoodeh    \n",
      "-RECORD 3--------------------------------------\n",
      " source_id              | ns16326              \n",
      " dept_division          | Field Operations     \n",
      " case_id                | 1014127402           \n",
      " case_opened_date       | 2018-01-01 09:46:00  \n",
      " case_closed_date       | 2018-01-06 18:58:00  \n",
      " SLA_due_date           | 2018-01-06 09:46:00  \n",
      " case_late              | true                 \n",
      " num_days_late          | 0.38280092600000004  \n",
      " case_closed            | true                 \n",
      " service_request_type   | Aggressive Animal... \n",
      " SLA_days               | 5.0                  \n",
      " case_status            | Closed               \n",
      " request_address        | 10400  ALPINE VIL... \n",
      " council_district       | 4                    \n",
      " dept_name              | Animal Care Services \n",
      " standardized_dept_name | Animal Care Services \n",
      " dept_subject_to_SLA    | true                 \n",
      " source_username        | Norma K. Sotoodeh    \n",
      "-RECORD 4--------------------------------------\n",
      " source_id              | ns16326              \n",
      " dept_division          | Field Operations     \n",
      " case_id                | 1014127406           \n",
      " case_opened_date       | 2018-01-01 09:56:00  \n",
      " case_closed_date       | 2018-01-06 18:58:00  \n",
      " SLA_due_date           | 2018-01-06 09:56:00  \n",
      " case_late              | true                 \n",
      " num_days_late          | 0.376655093          \n",
      " case_closed            | true                 \n",
      " service_request_type   | Aggressive Animal... \n",
      " SLA_days               | 5.0                  \n",
      " case_status            | Closed               \n",
      " request_address        | HAMMOND AVE and P... \n",
      " council_district       | 3                    \n",
      " dept_name              | Animal Care Services \n",
      " standardized_dept_name | Animal Care Services \n",
      " dept_subject_to_SLA    | true                 \n",
      " source_username        | Norma K. Sotoodeh    \n",
      "-RECORD 5--------------------------------------\n",
      " source_id              | ns16326              \n",
      " dept_division          | Field Operations     \n",
      " case_id                | 1014127410           \n",
      " case_opened_date       | 2018-01-01 10:13:00  \n",
      " case_closed_date       | 2018-02-21 20:06:00  \n",
      " SLA_due_date           | 2018-01-06 10:13:00  \n",
      " case_late              | true                 \n",
      " num_days_late          | 46.41153935          \n",
      " case_closed            | true                 \n",
      " service_request_type   | Animal Neglect       \n",
      " SLA_days               | 5.0                  \n",
      " case_status            | Closed               \n",
      " request_address        | 339  BRANDYWINE A... \n",
      " council_district       | 7                    \n",
      " dept_name              | Animal Care Services \n",
      " standardized_dept_name | Animal Care Services \n",
      " dept_subject_to_SLA    | true                 \n",
      " source_username        | Norma K. Sotoodeh    \n",
      "-RECORD 6--------------------------------------\n",
      " source_id              | ns16326              \n",
      " dept_division          | Field Operations     \n",
      " case_id                | 1014127417           \n",
      " case_opened_date       | 2018-01-01 10:32:00  \n",
      " case_closed_date       | 2018-01-06 11:42:00  \n",
      " SLA_due_date           | 2018-01-06 10:32:00  \n",
      " case_late              | true                 \n",
      " num_days_late          | 0.048368056          \n",
      " case_closed            | true                 \n",
      " service_request_type   | Animal Neglect       \n",
      " SLA_days               | 5.0                  \n",
      " case_status            | Closed               \n",
      " request_address        | 4839  FLICKER DR,... \n",
      " council_district       | 10                   \n",
      " dept_name              | Animal Care Services \n",
      " standardized_dept_name | Animal Care Services \n",
      " dept_subject_to_SLA    | true                 \n",
      " source_username        | Norma K. Sotoodeh    \n",
      "-RECORD 7--------------------------------------\n",
      " source_id              | ns16326              \n",
      " dept_division          | Field Operations     \n",
      " case_id                | 1014127419           \n",
      " case_opened_date       | 2018-01-01 10:37:00  \n",
      " case_closed_date       | 2018-02-11 14:32:00  \n",
      " SLA_due_date           | 2018-01-06 10:37:00  \n",
      " case_late              | true                 \n",
      " num_days_late          | 36.1630787           \n",
      " case_closed            | true                 \n",
      " service_request_type   | Aggressive Animal... \n",
      " SLA_days               | 5.0                  \n",
      " case_status            | Closed               \n",
      " request_address        | 436  SAN HORACIO ... \n",
      " council_district       | 5                    \n",
      " dept_name              | Animal Care Services \n",
      " standardized_dept_name | Animal Care Services \n",
      " dept_subject_to_SLA    | true                 \n",
      " source_username        | Norma K. Sotoodeh    \n",
      "-RECORD 8--------------------------------------\n",
      " source_id              | 139344               \n",
      " dept_division          | Field Operations     \n",
      " case_id                | 1014127423           \n",
      " case_opened_date       | 2018-01-01 10:44:00  \n",
      " case_closed_date       | 2018-01-31 19:23:00  \n",
      " SLA_due_date           | 2018-01-06 10:44:00  \n",
      " case_late              | true                 \n",
      " num_days_late          | 25.36005787          \n",
      " case_closed            | true                 \n",
      " service_request_type   | Animal Neglect       \n",
      " SLA_days               | 5.0                  \n",
      " case_status            | Closed               \n",
      " request_address        | 2621  STEVES AVE,... \n",
      " council_district       | 3                    \n",
      " dept_name              | Animal Care Services \n",
      " standardized_dept_name | Animal Care Services \n",
      " dept_subject_to_SLA    | true                 \n",
      " source_username        | Isis Mendoza         \n",
      "-RECORD 9--------------------------------------\n",
      " source_id              | 139344               \n",
      " dept_division          | Field Operations     \n",
      " case_id                | 1014127429           \n",
      " case_opened_date       | 2018-01-01 10:53:00  \n",
      " case_closed_date       | 2018-01-03 18:43:00  \n",
      " SLA_due_date           | 2018-01-01 22:53:00  \n",
      " case_late              | true                 \n",
      " num_days_late          | 1.8262268519999998   \n",
      " case_closed            | true                 \n",
      " service_request_type   | Trapped/Confined ... \n",
      " SLA_days               | 0.5                  \n",
      " case_status            | Closed               \n",
      " request_address        | 5926  SMOKY QUART... \n",
      " council_district       | 2                    \n",
      " dept_name              | Animal Care Services \n",
      " standardized_dept_name | Animal Care Services \n",
      " dept_subject_to_SLA    | true                 \n",
      " source_username        | Isis Mendoza         \n",
      "-RECORD 10-------------------------------------\n",
      " source_id              | ns16326              \n",
      " dept_division          | Field Operations     \n",
      " case_id                | 1014127431           \n",
      " case_opened_date       | 2018-01-01 10:56:00  \n",
      " case_closed_date       | 2018-02-21 20:06:00  \n",
      " SLA_due_date           | 2018-01-06 10:56:00  \n",
      " case_late              | true                 \n",
      " num_days_late          | 46.3819213           \n",
      " case_closed            | true                 \n",
      " service_request_type   | Animal Neglect       \n",
      " SLA_days               | 5.0                  \n",
      " case_status            | Closed               \n",
      " request_address        | 9010  SEINE, San ... \n",
      " council_district       | 6                    \n",
      " dept_name              | Animal Care Services \n",
      " standardized_dept_name | Animal Care Services \n",
      " dept_subject_to_SLA    | true                 \n",
      " source_username        | Norma K. Sotoodeh    \n",
      "-RECORD 11-------------------------------------\n",
      " source_id              | 139344               \n",
      " dept_division          | Field Operations     \n",
      " case_id                | 1014127432           \n",
      " case_opened_date       | 2018-01-01 10:56:00  \n",
      " case_closed_date       | 2018-02-21 20:06:00  \n",
      " SLA_due_date           | 2018-01-06 10:56:00  \n",
      " case_late              | true                 \n",
      " num_days_late          | 46.38175926          \n",
      " case_closed            | true                 \n",
      " service_request_type   | Animal Neglect       \n",
      " SLA_days               | 5.0                  \n",
      " case_status            | Closed               \n",
      " request_address        | 3238  MISSION RD,... \n",
      " council_district       | 3                    \n",
      " dept_name              | Animal Care Services \n",
      " standardized_dept_name | Animal Care Services \n",
      " dept_subject_to_SLA    | true                 \n",
      " source_username        | Isis Mendoza         \n",
      "-RECORD 12-------------------------------------\n",
      " source_id              | 139344               \n",
      " dept_division          | Field Operations     \n",
      " case_id                | 1014127438           \n",
      " case_opened_date       | 2018-01-01 11:06:00  \n",
      " case_closed_date       | 2018-03-19 20:33:00  \n",
      " SLA_due_date           | 2018-01-06 11:06:00  \n",
      " case_late              | true                 \n",
      " num_days_late          | 72.39403935          \n",
      " case_closed            | true                 \n",
      " service_request_type   | Animal Neglect       \n",
      " SLA_days               | 5.0                  \n",
      " case_status            | Closed               \n",
      " request_address        | 129  SOUTHWAY, Sa... \n",
      " council_district       | 5                    \n",
      " dept_name              | Animal Care Services \n",
      " standardized_dept_name | Animal Care Services \n",
      " dept_subject_to_SLA    | true                 \n",
      " source_username        | Isis Mendoza         \n",
      "-RECORD 13-------------------------------------\n",
      " source_id              | svcCRMSS             \n",
      " dept_division          | Field Operations     \n",
      " case_id                | 1014127441           \n",
      " case_opened_date       | 2018-01-01 11:13:00  \n",
      " case_closed_date       | 2018-04-25 16:48:00  \n",
      " SLA_due_date           | 2018-01-01 23:13:00  \n",
      " case_late              | true                 \n",
      " num_days_late          | 113.73300929999999   \n",
      " case_closed            | true                 \n",
      " service_request_type   | Aggressive Animal... \n",
      " SLA_days               | 0.5                  \n",
      " case_status            | Closed               \n",
      " request_address        | 9898  COLONNADE B... \n",
      " council_district       | 8                    \n",
      " dept_name              | Animal Care Services \n",
      " standardized_dept_name | Animal Care Services \n",
      " dept_subject_to_SLA    | true                 \n",
      " source_username        | svcCRMSS             \n",
      "-RECORD 14-------------------------------------\n",
      " source_id              | ns16326              \n",
      " dept_division          | Field Operations     \n",
      " case_id                | 1014127449           \n",
      " case_opened_date       | 2018-01-01 11:37:00  \n",
      " case_closed_date       | 2018-03-26 14:47:00  \n",
      " SLA_due_date           | 2018-01-06 11:37:00  \n",
      " case_late              | true                 \n",
      " num_days_late          | 79.13157407          \n",
      " case_closed            | true                 \n",
      " service_request_type   | Animal Neglect       \n",
      " SLA_days               | 5.0                  \n",
      " case_status            | Closed               \n",
      " request_address        | 1915  LAMAR ST, S... \n",
      " council_district       | 2                    \n",
      " dept_name              | Animal Care Services \n",
      " standardized_dept_name | Animal Care Services \n",
      " dept_subject_to_SLA    | true                 \n",
      " source_username        | Norma K. Sotoodeh    \n",
      "-RECORD 15-------------------------------------\n",
      " source_id              | 139344               \n",
      " dept_division          | Field Operations     \n",
      " case_id                | 1014127450           \n",
      " case_opened_date       | 2018-01-01 11:38:00  \n",
      " case_closed_date       | 2018-01-09 22:28:00  \n",
      " SLA_due_date           | 2018-01-06 11:38:00  \n",
      " case_late              | true                 \n",
      " num_days_late          | 3.450983796          \n",
      " case_closed            | true                 \n",
      " service_request_type   | Aggressive Animal... \n",
      " SLA_days               | 5.0                  \n",
      " case_status            | Closed               \n",
      " request_address        | 812  MONTANA, San... \n",
      " council_district       | 2                    \n",
      " dept_name              | Animal Care Services \n",
      " standardized_dept_name | Animal Care Services \n",
      " dept_subject_to_SLA    | true                 \n",
      " source_username        | Isis Mendoza         \n",
      "-RECORD 16-------------------------------------\n",
      " source_id              | 139344               \n",
      " dept_division          | Field Operations     \n",
      " case_id                | 1014127451           \n",
      " case_opened_date       | 2018-01-01 11:42:00  \n",
      " case_closed_date       | 2018-03-20 15:33:00  \n",
      " SLA_due_date           | 2018-01-06 11:42:00  \n",
      " case_late              | true                 \n",
      " num_days_late          | 73.16055556          \n",
      " case_closed            | true                 \n",
      " service_request_type   | Animal Neglect       \n",
      " SLA_days               | 5.0                  \n",
      " case_status            | Closed               \n",
      " request_address        | 819  MONTANA, San... \n",
      " council_district       | 2                    \n",
      " dept_name              | Animal Care Services \n",
      " standardized_dept_name | Animal Care Services \n",
      " dept_subject_to_SLA    | true                 \n",
      " source_username        | Isis Mendoza         \n",
      "-RECORD 17-------------------------------------\n",
      " source_id              | ns16326              \n",
      " dept_division          | Field Operations     \n",
      " case_id                | 1014127452           \n",
      " case_opened_date       | 2018-01-01 11:46:00  \n",
      " case_closed_date       | 2018-01-03 07:55:00  \n",
      " SLA_due_date           | 2018-01-01 23:46:00  \n",
      " case_late              | true                 \n",
      " num_days_late          | 1.339675926          \n",
      " case_closed            | true                 \n",
      " service_request_type   | Trapped/Confined ... \n",
      " SLA_days               | 0.5                  \n",
      " case_status            | Closed               \n",
      " request_address        | 1031  VERMONT, Sa... \n",
      " council_district       | 5                    \n",
      " dept_name              | Animal Care Services \n",
      " standardized_dept_name | Animal Care Services \n",
      " dept_subject_to_SLA    | true                 \n",
      " source_username        | Norma K. Sotoodeh    \n",
      "-RECORD 18-------------------------------------\n",
      " source_id              | 139344               \n",
      " dept_division          | Field Operations     \n",
      " case_id                | 1014127454           \n",
      " case_opened_date       | 2018-01-01 11:50:00  \n",
      " case_closed_date       | 2018-03-15 12:28:00  \n",
      " SLA_due_date           | 2018-01-06 11:50:00  \n",
      " case_late              | true                 \n",
      " num_days_late          | 68.02585648          \n",
      " case_closed            | true                 \n",
      " service_request_type   | Animal Neglect       \n",
      " SLA_days               | 5.0                  \n",
      " case_status            | Closed               \n",
      " request_address        | 145  ODELL ST, Sa... \n",
      " council_district       | 1                    \n",
      " dept_name              | Animal Care Services \n",
      " standardized_dept_name | Animal Care Services \n",
      " dept_subject_to_SLA    | true                 \n",
      " source_username        | Isis Mendoza         \n",
      "-RECORD 19-------------------------------------\n",
      " source_id              | 139344               \n",
      " dept_division          | Field Operations     \n",
      " case_id                | 1014127463           \n",
      " case_opened_date       | 2018-01-01 12:21:00  \n",
      " case_closed_date       | 2018-03-19 21:17:00  \n",
      " SLA_due_date           | 2018-01-06 12:21:00  \n",
      " case_late              | true                 \n",
      " num_days_late          | 72.37243056          \n",
      " case_closed            | true                 \n",
      " service_request_type   | Animal Neglect       \n",
      " SLA_days               | 5.0                  \n",
      " case_status            | Closed               \n",
      " request_address        | 3026  WEIR AVE, S... \n",
      " council_district       | 5                    \n",
      " dept_name              | Animal Care Services \n",
      " standardized_dept_name | Animal Care Services \n",
      " dept_subject_to_SLA    | true                 \n",
      " source_username        | Isis Mendoza         \n",
      "only showing top 20 rows\n",
      "\n"
     ]
    }
   ],
   "source": [
    "df.filter(df.case_late == 'true').show(vertical=True)"
   ]
  },
  {
   "cell_type": "markdown",
   "metadata": {},
   "source": [
    "- On average, how late are the late cases by department?"
   ]
  },
  {
   "cell_type": "code",
   "execution_count": 36,
   "metadata": {},
   "outputs": [
    {
     "name": "stdout",
     "output_type": "stream",
     "text": [
      "+-----------------------------+--------------------+------------------+------------------+\n",
      "|dept_division                |avg(case_id)        |avg(num_days_late)|avg(SLA_days)     |\n",
      "+-----------------------------+--------------------+------------------+------------------+\n",
      "|Code Enforcement (Internal)  |1.0138330939166666E9|210.89201994318182|14.493531583181818|\n",
      "|311 Call Center              |1.0139612870511056E9|88.18248182589824 |7.468206877341523 |\n",
      "|Director's Office Horizontal |1.01403989456E9     |77.4616196527018  |10.200102146079999|\n",
      "|Shops                        |1.0136390847692307E9|76.60603677123078 |14.778489138076925|\n",
      "|Code Enforcement (IntExp)    |1.0137667548585366E9|76.41362019978537 |33.96483609969268 |\n",
      "|Engineering Division         |1.0137541918595238E9|67.22248485687264 |131.6826404203572 |\n",
      "|Reservations                 |1.014544809E9       |66.03116319       |9.0               |\n",
      "|Dangerous Premise            |1.0139000454726912E9|55.88032722257696 |84.70494411800397 |\n",
      "|Code Enforcement             |1.0139036818512987E9|48.817807962344645|37.42818441758017 |\n",
      "|Tree Crew                    |1.01374595084375E9  |33.7531873013125  |14.638006772734377|\n",
      "|Dangerous Premise (IntExp)   |1.0138970313333334E9|26.794363426666667|65.0              |\n",
      "|Trades                       |1.0138882022465897E9|24.645650953230852|10.194961379188875|\n",
      "|Graffiti (IntExp)            |1.0137096663056818E9|24.280882089082958|3.6334227430568173|\n",
      "|Field Operations             |1.0139879807398425E9|23.44672963473822 |3.5341582108823206|\n",
      "|Shops (Internal)             |1.0139445495112782E9|20.631614157630327|13.652920959830828|\n",
      "|Clean and Green Natural Areas|1.0138431988214285E9|13.450237682142856|7.391541005321429 |\n",
      "|Solid Waste                  |1.014051324643917E9 |13.190398567454006|5.0               |\n",
      "|Graffiti                     |1.013939948305147E9 |12.934867918819856|4.041208724834558 |\n",
      "|Food Establishments          |1.0139890880106761E9|9.824611548120995 |14.067615740177935|\n",
      "|Clean and Green              |1.0138589889139073E9|9.46565474049669  |5.823458425384107 |\n",
      "|Traffic Engineering Design   |1.0141889071223404E9|8.722806589750002 |90.67335617281914 |\n",
      "|Vector                       |1.0141693325714285E9|7.899086254380951 |14.000002038809521|\n",
      "|Streets                      |1.0140597338751123E9|7.5955971168206045|18.141746839404316|\n",
      "|Signs and Markings           |1.0136401940266666E9|7.462880622938334 |10.630329591024163|\n",
      "|Waste Collection             |1.0139487142132504E9|7.395632569332258 |6.430306362217833 |\n",
      "|Signals                      |1.014102723226415E9 |6.1705804500518875|13.118784449292454|\n",
      "|Miscellaneous                |1.0138390818507463E9|3.5315390064029852|2.08955223880597  |\n",
      "|Facility License             |1.0144164269614325E9|3.1045440836721774|5.000001307256199 |\n",
      "|Brush                        |1.0138571599766464E9|2.690241731090145 |8.400865817531058 |\n",
      "|Storm Water Engineering      |1.0136674638333334E9|1.8333236883333335|29.50972801       |\n",
      "|Storm Water                  |1.0138024695436894E9|1.2210404680679612|30.671179282029133|\n",
      "+-----------------------------+--------------------+------------------+------------------+\n",
      "\n"
     ]
    }
   ],
   "source": [
    "df.filter(df.case_late == 'true').groupby(df.dept_division).mean().sort('avg(num_days_late)', ascending=0).show(40,truncate=False)"
   ]
  },
  {
   "cell_type": "code",
   "execution_count": 37,
   "metadata": {},
   "outputs": [],
   "source": [
    "pdf = df.filter(df.case_late == 'true').groupby(df.dept_division).mean().sort('avg(num_days_late)', ascending=0).toPandas()"
   ]
  },
  {
   "cell_type": "code",
   "execution_count": 38,
   "metadata": {},
   "outputs": [
    {
     "data": {
      "text/plain": [
       "Text(0.5, 0, 'Number of Days')"
      ]
     },
     "execution_count": 38,
     "metadata": {},
     "output_type": "execute_result"
    },
    {
     "data": {
      "image/png": "[encoded data removed]",
      "text/plain": [
       "<Figure size 1008x360 with 1 Axes>"
      ]
     },
     "metadata": {
      "needs_background": "light"
     },
     "output_type": "display_data"
    }
   ],
   "source": [
    "pdf.set_index('dept_division').drop(columns={'avg(case_id)','avg(SLA_days)'}).head(10).plot.barh(width=1, color='thistle', edgecolor=\"black\", figsize=(14, 5))\n",
    "plt.title(\"Average Days Late for Top 10 Departments\")\n",
    "plt.ylabel(\"\")\n",
    "plt.xlabel(\"Number of Days\")"
   ]
  },
  {
   "cell_type": "markdown",
   "metadata": {},
   "source": [
    "- What is the service type that is the most late? Just for Parks & Rec?"
   ]
  },
  {
   "cell_type": "code",
   "execution_count": 49,
   "metadata": {},
   "outputs": [
    {
     "name": "stdout",
     "output_type": "stream",
     "text": [
      "+--------------------------------------+--------------------+------------------+------------------+\n",
      "|service_request_type                  |avg(case_id)        |avg(num_days_late)|avg(SLA_days)     |\n",
      "+--------------------------------------+--------------------+------------------+------------------+\n",
      "|Zoning: Junk Yards                    |1.013830507097973E9 |175.9563621042095 |14.438058253547297|\n",
      "|Labeling for Used Mattress            |1.0133005664285715E9|162.43032902285717|14.31732308142857 |\n",
      "|Record Keeping of Used Mattresses     |1.013299212E9       |153.99724039428568|14.11101521142857 |\n",
      "|Signage Requied for Sale of Used Mattr|1.013307213E9       |151.63868055333333|14.373448109166667|\n",
      "|Storage of Used Mattress              |1.01347486525E9     |142.112556415     |14.22888310125    |\n",
      "|Zoning: Recycle Yard                  |1.013701056580808E9 |135.92851612479797|14.329021055454545|\n",
      "|Donation Container Enforcement        |1.0137315293870968E9|131.75610506358706|14.61451821980645 |\n",
      "|License Requied Used Mattress Sales   |1.0133042548571428E9|128.79828704142858|14.055863095714285|\n",
      "|Traffic Signal Graffiti               |1.0137935852E9      |101.79846062200002|86.621680556      |\n",
      "|Complaint                             |1.0139877228008264E9|72.87050230311695 |7.618365362917766 |\n",
      "|Vendors                               |1.0140020020137615E9|66.548098985078   |15.127981067201834|\n",
      "|Reservation Assistance                |1.014544809E9       |66.03116319       |9.0               |\n",
      "|No Address Posted                     |1.0140244392803586E9|59.875640733625936|14.826550463773431|\n",
      "|Curbstoning                           |1.0139432144912281E9|59.808628977605274|14.933404199166665|\n",
      "|Contracted Service Issues             |1.01389768675E9     |56.72045236025    |4.978974729916667 |\n",
      "|Status: On-Going CIMS Projects        |1.0139046125163147E9|37.570646702950086|10.451991029316696|\n",
      "|Historical Building (No Permits)      |1.0140996747272727E9|31.567148565454545|66.54545454545455 |\n",
      "|Used Mattress Inspection              |1.0138283131020408E9|30.168053900795922|9.069209656061224 |\n",
      "|Service Information                   |1.0139584635365853E9|29.177355749054875|4.523172002042683 |\n",
      "|Park Building Maint Invest            |1.0137143824166666E9|24.322320840895838|14.486095196874999|\n",
      "+--------------------------------------+--------------------+------------------+------------------+\n",
      "only showing top 20 rows\n",
      "\n"
     ]
    }
   ],
   "source": [
    "# Zoning: Junk Yards is the service type that is most late (highest average number of late days). \n",
    "df.groupby(df.service_request_type).mean().sort('avg(num_days_late)', ascending=0).show(truncate=False)"
   ]
  },
  {
   "cell_type": "code",
   "execution_count": null,
   "metadata": {},
   "outputs": [],
   "source": [
    "# Reservation Assistance is the most late service type for Parks & Rec. "
   ]
  },
  {
   "cell_type": "code",
   "execution_count": 48,
   "metadata": {},
   "outputs": [
    {
     "name": "stdout",
     "output_type": "stream",
     "text": [
      "+----------------------------+--------------------+-------------------+------------------+\n",
      "|service_request_type        |avg(case_id)        |avg(num_days_late) |avg(SLA_days)     |\n",
      "+----------------------------+--------------------+-------------------+------------------+\n",
      "|Reservation Assistance      |1.014544809E9       |66.03116319        |9.0               |\n",
      "|Park Building Maint Invest  |1.0137143824166666E9|24.322320840895838 |14.486095196874999|\n",
      "|Sportfield Lighting         |1.0139367587835951E9|19.631214529951134 |14.88856616809773 |\n",
      "|Electrical                  |1.013974318124796E9 |11.750504897402118 |14.681033104102774|\n",
      "|Amenity Park Improvement    |1.0140088902436975E9|9.64126176872269   |14.553125486386556|\n",
      "|Tree Removal                |1.0140161525201342E9|5.658236274288589  |14.457194335738256|\n",
      "|Painting                    |1.0139234064341637E9|4.354412358281138  |10.191119307551599|\n",
      "|Tree Trimming/Maintenance   |1.0140521793683242E9|4.210177597069979  |14.54217539311234 |\n",
      "|General Building Maintenance|1.0140366329545455E9|4.191945529579547  |10.444011698965907|\n",
      "|Masonry                     |1.0140534760402684E9|4.175698250885904  |10.081861820579418|\n",
      "|Sign Maintenance            |1.0140154664390244E9|4.141523684634147  |14.895523797195121|\n",
      "|Fence/Gate Repair           |1.0140419135573771E9|3.6582782138442616 |15.03798174704918 |\n",
      "|Miscellaneous Park Equipment|1.0139775885987262E9|2.460051603808917  |14.830248584649683|\n",
      "|Trail/Greenway Maintenance  |1.0139753761585366E9|1.691468919487805  |7.8080435580000005|\n",
      "|Carpentry                   |1.0139729436682099E9|0.5074417902093622 |10.106970152683129|\n",
      "|Fencing                     |1.0139737559142857E9|-0.170123148302857 |14.629990145542857|\n",
      "|Graffiti                    |1.0138669414644595E9|-0.235880981994158 |4.3483433859824725|\n",
      "|Welding                     |1.0140397455018587E9|-0.3198878734944239|10.040643888665427|\n",
      "|Parks Mowing                |1.0140659031973094E9|-0.4675284421165918|4.273980547242153 |\n",
      "|Brush/Debris Collection     |1.0139618516653992E9|-0.6721451203840308|4.460012410239544 |\n",
      "+----------------------------+--------------------+-------------------+------------------+\n",
      "only showing top 20 rows\n",
      "\n"
     ]
    }
   ],
   "source": [
    "df.filter(df.dept_name == 'Parks and Recreation').groupby(df.service_request_type).mean().sort('avg(num_days_late)', ascending=0).show(truncate=False)"
   ]
  },
  {
   "cell_type": "markdown",
   "metadata": {},
   "source": [
    "- For the DSD/Code Enforcement department, what are the most common service request types? Look at other departments too."
   ]
  },
  {
   "cell_type": "code",
   "execution_count": null,
   "metadata": {},
   "outputs": [],
   "source": []
  },
  {
   "cell_type": "markdown",
   "metadata": {},
   "source": [
    "- Does whether or not its a weekend matter for when a case is opened/closed?"
   ]
  },
  {
   "cell_type": "code",
   "execution_count": null,
   "metadata": {},
   "outputs": [],
   "source": []
  },
  {
   "cell_type": "markdown",
   "metadata": {},
   "source": [
    "- On average, how many cases are opened a day for the Customer Service department?"
   ]
  },
  {
   "cell_type": "code",
   "execution_count": null,
   "metadata": {},
   "outputs": [],
   "source": []
  },
  {
   "cell_type": "markdown",
   "metadata": {},
   "source": [
    "- Does the number of service requests for the solid waste department vary by day of the week?"
   ]
  },
  {
   "cell_type": "code",
   "execution_count": null,
   "metadata": {},
   "outputs": [],
   "source": []
  },
  {
   "cell_type": "markdown",
   "metadata": {},
   "source": [
    "# Model"
   ]
  },
  {
   "cell_type": "markdown",
   "metadata": {},
   "source": [
    "- Use the `.randomSplit` method to split the 311 data into training and test sets."
   ]
  },
  {
   "cell_type": "code",
   "execution_count": 56,
   "metadata": {},
   "outputs": [],
   "source": [
    "train, test = df.randomSplit([0.8, 0.2], seed=123)"
   ]
  },
  {
   "cell_type": "code",
   "execution_count": 57,
   "metadata": {},
   "outputs": [],
   "source": [
    "def shape(df: pyspark.sql.DataFrame):\n",
    "    return df.count(), len(df.columns)"
   ]
  },
  {
   "cell_type": "code",
   "execution_count": 58,
   "metadata": {},
   "outputs": [
    {
     "data": {
      "text/plain": [
       "(683858, 18)"
      ]
     },
     "execution_count": 58,
     "metadata": {},
     "output_type": "execute_result"
    }
   ],
   "source": [
    "shape(train)"
   ]
  },
  {
   "cell_type": "code",
   "execution_count": 59,
   "metadata": {},
   "outputs": [
    {
     "data": {
      "text/plain": [
       "(171411, 18)"
      ]
     },
     "execution_count": 59,
     "metadata": {},
     "output_type": "execute_result"
    }
   ],
   "source": [
    "shape(test)"
   ]
  },
  {
   "cell_type": "markdown",
   "metadata": {},
   "source": [
    "- Create a classification model to predict whether a case will be late or not (i.e. predict `case_late`). Experiment with different combinations of features and different classification algorithms."
   ]
  },
  {
   "cell_type": "code",
   "execution_count": null,
   "metadata": {},
   "outputs": [],
   "source": []
  },
  {
   "cell_type": "markdown",
   "metadata": {},
   "source": [
    "- Create a regression model to predict how many days late a case will be (i.e. predict `num_days_late`). Experiment with different combinations of features and different regression algorithms."
   ]
  },
  {
   "cell_type": "code",
   "execution_count": null,
   "metadata": {},
   "outputs": [],
   "source": []
  }
 ],
 "metadata": {
  "kernelspec": {
   "display_name": "Python 3",
   "language": "python",
   "name": "python3"
  },
  "language_info": {
   "codemirror_mode": {
    "name": "ipython",
    "version": 3
   },
   "file_extension": ".py",
   "mimetype": "text/x-python",
   "name": "python",
   "nbconvert_exporter": "python",
   "pygments_lexer": "ipython3",
   "version": "3.7.3"
  }
 },
 "nbformat": 4,
 "nbformat_minor": 2
}
