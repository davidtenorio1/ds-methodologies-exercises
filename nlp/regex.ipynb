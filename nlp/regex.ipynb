{
 "cells": [
  {
   "cell_type": "code",
   "execution_count": 1,
   "metadata": {},
   "outputs": [],
   "source": [
    "import pandas as pd\n",
    "import re"
   ]
  },
  {
   "cell_type": "markdown",
   "metadata": {},
   "source": [
    "1.) Write a function named is_vowel. It should accept a string as input and use a regular expression to determine if the passed string is a vowel. While not explicity mentioned in the lesson, you can treat the result of re.search as a boolean value that indicates whether or not the regular expression matches the given string."
   ]
  },
  {
   "cell_type": "code",
   "execution_count": 2,
   "metadata": {},
   "outputs": [],
   "source": [
    "def is_vowel(string):\n",
    "    return bool(re.search(f'^[aeiou]+$', string))"
   ]
  },
  {
   "cell_type": "code",
   "execution_count": 3,
   "metadata": {
    "scrolled": true
   },
   "outputs": [
    {
     "data": {
      "text/plain": [
       "True"
      ]
     },
     "execution_count": 3,
     "metadata": {},
     "output_type": "execute_result"
    }
   ],
   "source": [
    "is_vowel('a')"
   ]
  },
  {
   "cell_type": "markdown",
   "metadata": {},
   "source": [
    "2.) Write a function named is_valid_username that accepts a string as input. A valid username starts with a lowercase letter, and only consists of lowercase letters, numbers, or the _ character. It should also be no longer than 32 characters. The function should return either True or False depending on whether the passed string is a valid username."
   ]
  },
  {
   "cell_type": "code",
   "execution_count": 33,
   "metadata": {},
   "outputs": [],
   "source": [
    "def is_valid(string):\n",
    "    username = f'^[a-z][a-z\\d_]{1,31}$'\n",
    "    return bool(re.search(username, string))"
   ]
  },
  {
   "cell_type": "code",
   "execution_count": 35,
   "metadata": {},
   "outputs": [
    {
     "data": {
      "text/plain": [
       "False"
      ]
     },
     "execution_count": 35,
     "metadata": {},
     "output_type": "execute_result"
    }
   ],
   "source": [
    "is_valid('d')"
   ]
  },
  {
   "cell_type": "markdown",
   "metadata": {},
   "source": [
    "3.) Write a regular expression to capture phone numbers. It should match all of the following:\n",
    "\n",
    "(210) 867 5309, \n",
    "+1 210.867.5309, \n",
    "867-5309, \n",
    "210-867-5309"
   ]
  },
  {
   "cell_type": "code",
   "execution_count": 7,
   "metadata": {},
   "outputs": [],
   "source": [
    "def get_phone_number(string):\n",
    "    numbers = re.findall(f'\\d+',string)\n",
    "    print (numbers)"
   ]
  },
  {
   "cell_type": "code",
   "execution_count": 8,
   "metadata": {},
   "outputs": [
    {
     "name": "stdout",
     "output_type": "stream",
     "text": [
      "['210', '867', '5309']\n"
     ]
    }
   ],
   "source": [
    "get_phone_number('210-867-5309')"
   ]
  },
  {
   "cell_type": "markdown",
   "metadata": {},
   "source": [
    "4.) Use regular expressions to convert the dates below to the standardized year-month-day format.\n",
    "\n",
    "02/04/19, \n",
    "02/05/19, \n",
    "02/06/19, \n",
    "02/07/19, \n",
    "02/08/19, \n",
    "02/09/19, \n",
    "02/10/19"
   ]
  },
  {
   "cell_type": "code",
   "execution_count": 40,
   "metadata": {},
   "outputs": [],
   "source": [
    "def convert_dates(string):\n",
    "    print(re.sub(r'(?P<month>\\d\\d)/(\\d\\d)/(\\d\\d)',r'20\\3-\\1-\\2',string))"
   ]
  },
  {
   "cell_type": "code",
   "execution_count": 41,
   "metadata": {},
   "outputs": [
    {
     "name": "stdout",
     "output_type": "stream",
     "text": [
      "2019-02-09\n"
     ]
    }
   ],
   "source": [
    "convert_dates('02/09/19')"
   ]
  },
  {
   "cell_type": "markdown",
   "metadata": {},
   "source": [
    "5.) Write a regex to extract the various parts of these logfile lines:\n",
    "\n",
    "GET /api/v1/sales?page=86 [16/Apr/2019:193452+0000] HTTP/1.1 {200} 510348 \"python-requests/2.21.0\" 97.105.19.58\n",
    "\n",
    "POST /users_accounts/file-upload [16/Apr/2019:193452+0000] HTTP/1.1 {201} 42 \"User-Agent: Mozilla/5.0 (X11; Fedora; Fedora; Linux x86_64) AppleWebKit/537.36 (KHTML, like Gecko) Chrome/73.0.3683.86 Safari/537.36\" 97.105.19.58\n",
    "\n",
    "GET /api/v1/items?page=3 [16/Apr/2019:193453+0000] HTTP/1.1 {429} 3561 \"python-requests/2.21.0\" 97.105.19.58"
   ]
  },
  {
   "cell_type": "code",
   "execution_count": null,
   "metadata": {},
   "outputs": [],
   "source": []
  },
  {
   "cell_type": "markdown",
   "metadata": {},
   "source": [
    "6.) You can find a list of words on your mac at /usr/share/dict/words. Use this file to answer the following questions:\n",
    "\n",
    "- How many words have at least 3 vowels?\n",
    "- How many words have at least 3 vowels in a row?\n",
    "- How many words have at least 4 consonants in a row?\n",
    "- How many words start and end with the same letter?\n",
    "- How many words start and end with a vowel?\n",
    "- How many words contain the same letter 3 times in a row?\n",
    "- What other interesting patterns in words can you find?"
   ]
  },
  {
   "cell_type": "code",
   "execution_count": 92,
   "metadata": {},
   "outputs": [],
   "source": [
    "words = pd.read_csv('/usr/share/dict/words', header=None).iloc[:,0].dropna()"
   ]
  },
  {
   "cell_type": "code",
   "execution_count": 94,
   "metadata": {},
   "outputs": [
    {
     "data": {
      "text/plain": [
       "0                     A\n",
       "1                     a\n",
       "2                    aa\n",
       "3                   aal\n",
       "4                 aalii\n",
       "5                   aam\n",
       "6                  Aani\n",
       "7              aardvark\n",
       "8              aardwolf\n",
       "9                 Aaron\n",
       "10              Aaronic\n",
       "11            Aaronical\n",
       "12             Aaronite\n",
       "13            Aaronitic\n",
       "14                 Aaru\n",
       "15                   Ab\n",
       "16                  aba\n",
       "17              Ababdeh\n",
       "18               Ababua\n",
       "19                 abac\n",
       "20                abaca\n",
       "21              abacate\n",
       "22               abacay\n",
       "23            abacinate\n",
       "24          abacination\n",
       "25            abaciscus\n",
       "26              abacist\n",
       "27                aback\n",
       "28            abactinal\n",
       "29          abactinally\n",
       "              ...      \n",
       "235856           zymome\n",
       "235857        zymometer\n",
       "235858          zymomin\n",
       "235859        zymophore\n",
       "235860       zymophoric\n",
       "235861    zymophosphate\n",
       "235862        zymophyte\n",
       "235863      zymoplastic\n",
       "235864        zymoscope\n",
       "235865      zymosimeter\n",
       "235866          zymosis\n",
       "235867       zymosterol\n",
       "235868      zymosthenic\n",
       "235869      zymotechnic\n",
       "235870    zymotechnical\n",
       "235871     zymotechnics\n",
       "235872       zymotechny\n",
       "235873          zymotic\n",
       "235874      zymotically\n",
       "235875         zymotize\n",
       "235876        zymotoxic\n",
       "235877          zymurgy\n",
       "235878         Zyrenian\n",
       "235879           Zyrian\n",
       "235880           Zyryan\n",
       "235881           zythem\n",
       "235882           Zythia\n",
       "235883           zythum\n",
       "235884          Zyzomys\n",
       "235885       Zyzzogeton\n",
       "Name: 0, Length: 235884, dtype: object"
      ]
     },
     "execution_count": 94,
     "metadata": {},
     "output_type": "execute_result"
    }
   ],
   "source": [
    "words"
   ]
  },
  {
   "cell_type": "code",
   "execution_count": 95,
   "metadata": {},
   "outputs": [
    {
     "data": {
      "text/plain": [
       "190293"
      ]
     },
     "execution_count": 95,
     "metadata": {},
     "output_type": "execute_result"
    }
   ],
   "source": [
    "# How many words have at least 3 vowels?\n",
    "(words.str.count(r'[aeiou]')>=3).sum()"
   ]
  },
  {
   "cell_type": "code",
   "execution_count": 96,
   "metadata": {},
   "outputs": [
    {
     "data": {
      "text/plain": [
       "6156"
      ]
     },
     "execution_count": 96,
     "metadata": {},
     "output_type": "execute_result"
    }
   ],
   "source": [
    "# How many words have at least 3 vowels in a row?\n",
    "words.str.contains(r'[aeiou]{3,}').sum()"
   ]
  },
  {
   "cell_type": "code",
   "execution_count": 97,
   "metadata": {},
   "outputs": [
    {
     "data": {
      "text/plain": [
       "19743"
      ]
     },
     "execution_count": 97,
     "metadata": {},
     "output_type": "execute_result"
    }
   ],
   "source": [
    "# How many words have at least 4 consonants in a row?\n",
    "words.str.contains(r'[^aeiou]{4}').sum()"
   ]
  },
  {
   "cell_type": "code",
   "execution_count": 98,
   "metadata": {},
   "outputs": [
    {
     "name": "stderr",
     "output_type": "stream",
     "text": [
      "/usr/local/anaconda3/lib/python3.7/site-packages/ipykernel_launcher.py:2: UserWarning: This pattern has match groups. To actually get the groups, use str.extract.\n",
      "  \n"
     ]
    },
    {
     "data": {
      "text/plain": [
       "9916"
      ]
     },
     "execution_count": 98,
     "metadata": {},
     "output_type": "execute_result"
    }
   ],
   "source": [
    "# How many words start and end with the same letter?\n",
    "words.str.contains(r'^(.).*\\1$').sum()"
   ]
  },
  {
   "cell_type": "code",
   "execution_count": 99,
   "metadata": {},
   "outputs": [
    {
     "data": {
      "text/plain": [
       "12351"
      ]
     },
     "execution_count": 99,
     "metadata": {},
     "output_type": "execute_result"
    }
   ],
   "source": [
    "# How many words start and end with a vowel?\n",
    "words.str.contains(r'^[aeiou].*[aeiou]$').sum()"
   ]
  },
  {
   "cell_type": "code",
   "execution_count": 100,
   "metadata": {},
   "outputs": [
    {
     "name": "stderr",
     "output_type": "stream",
     "text": [
      "/usr/local/anaconda3/lib/python3.7/site-packages/ipykernel_launcher.py:2: UserWarning: This pattern has match groups. To actually get the groups, use str.extract.\n",
      "  \n"
     ]
    },
    {
     "data": {
      "text/plain": [
       "7"
      ]
     },
     "execution_count": 100,
     "metadata": {},
     "output_type": "execute_result"
    }
   ],
   "source": [
    "# How many words contain the same letter 3 times in a row?\n",
    "words.str.contains(r'(.)\\1{2,}').sum()"
   ]
  },
  {
   "cell_type": "code",
   "execution_count": 101,
   "metadata": {},
   "outputs": [
    {
     "name": "stderr",
     "output_type": "stream",
     "text": [
      "/usr/local/anaconda3/lib/python3.7/site-packages/ipykernel_launcher.py:2: UserWarning: This pattern has match groups. To actually get the groups, use str.extract.\n",
      "  \n"
     ]
    },
    {
     "data": {
      "text/plain": [
       "792"
      ]
     },
     "execution_count": 101,
     "metadata": {},
     "output_type": "execute_result"
    }
   ],
   "source": [
    "# How many words contain two sets of the same two letters repeated\n",
    "words.str.contains(r'((.)\\2).*\\1').sum()"
   ]
  },
  {
   "cell_type": "code",
   "execution_count": 106,
   "metadata": {},
   "outputs": [
    {
     "name": "stderr",
     "output_type": "stream",
     "text": [
      "/usr/local/anaconda3/lib/python3.7/site-packages/ipykernel_launcher.py:2: UserWarning: This pattern has match groups. To actually get the groups, use str.extract.\n",
      "  \n"
     ]
    },
    {
     "data": {
      "text/plain": [
       "895            accessariness\n",
       "906               accessless\n",
       "909            accessoriness\n",
       "2688          admissibleness\n",
       "3879             agelessness\n",
       "3961          aggressiveness\n",
       "4372             aimlessness\n",
       "5432          allagophyllous\n",
       "5482           allegorically\n",
       "5535               Allhallow\n",
       "5536           Allhallowtide\n",
       "5547              allicholly\n",
       "5587            allochirally\n",
       "5589         allochlorophyll\n",
       "5618           allogenically\n",
       "5639           allopalladium\n",
       "5642        allopathetically\n",
       "5644          allopathically\n",
       "5648          allopatrically\n",
       "5685            allotelluric\n",
       "5690      allothigenetically\n",
       "5708          allotropically\n",
       "6380            ambassadress\n",
       "6794               amissness\n",
       "13881            artlessness\n",
       "14419         assailableness\n",
       "14431               assassin\n",
       "14432            assassinate\n",
       "14433          assassination\n",
       "14434          assassinative\n",
       "                 ...        \n",
       "230247            Wallawalla\n",
       "230389          wantlessness\n",
       "230754         watchlessness\n",
       "230804         waterlessness\n",
       "230892          wavelessness\n",
       "230973       waylaidlessness\n",
       "231282        weightlessness\n",
       "231294         weirdlessness\n",
       "231813          whillaballoo\n",
       "231888        whippersnapper\n",
       "232297          wifelessness\n",
       "232396             willfully\n",
       "232517          windlessness\n",
       "232530        windowlessness\n",
       "232611          winglessness\n",
       "232729          wirelessness\n",
       "232837          wistlessness\n",
       "232943           witlessness\n",
       "233229          woodlessness\n",
       "233249              woodroof\n",
       "233288                woohoo\n",
       "233372          wordlessness\n",
       "233419          worklessness\n",
       "233539         worthlessness\n",
       "233685        wretchlessness\n",
       "234557           yellowbelly\n",
       "234559            yellowbill\n",
       "234834         youthlessness\n",
       "235076          zeallessness\n",
       "235683                zoozoo\n",
       "Name: 0, Length: 792, dtype: object"
      ]
     },
     "execution_count": 106,
     "metadata": {},
     "output_type": "execute_result"
    }
   ],
   "source": [
    "# What are those words?\n",
    "words[words.str.contains(r'((.)\\2).*\\1')]"
   ]
  }
 ],
 "metadata": {
  "kernelspec": {
   "display_name": "Python 3",
   "language": "python",
   "name": "python3"
  },
  "language_info": {
   "codemirror_mode": {
    "name": "ipython",
    "version": 3
   },
   "file_extension": ".py",
   "mimetype": "text/x-python",
   "name": "python",
   "nbconvert_exporter": "python",
   "pygments_lexer": "ipython3",
   "version": "3.7.3"
  }
 },
 "nbformat": 4,
 "nbformat_minor": 2
}
