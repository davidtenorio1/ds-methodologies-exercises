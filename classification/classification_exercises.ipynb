{
 "cells": [
  {
   "cell_type": "code",
   "execution_count": 1,
   "metadata": {},
   "outputs": [],
   "source": [
    "import pandas as pd\n",
    "import pydataset"
   ]
  },
  {
   "cell_type": "markdown",
   "metadata": {},
   "source": [
    "### 1. ) Use a python module containing datasets as a source from the iris data. Create a pandas dataframe, df_iris, from this data.\n"
   ]
  },
  {
   "cell_type": "code",
   "execution_count": 2,
   "metadata": {},
   "outputs": [],
   "source": [
    "df_iris = pd.DataFrame(pydataset.data('iris'))"
   ]
  },
  {
   "cell_type": "markdown",
   "metadata": {},
   "source": [
    "Print the first 3 rows:"
   ]
  },
  {
   "cell_type": "code",
   "execution_count": 3,
   "metadata": {},
   "outputs": [
    {
     "data": {
      "text/html": [
       "<div>\n",
       "<style scoped>\n",
       "    .dataframe tbody tr th:only-of-type {\n",
       "        vertical-align: middle;\n",
       "    }\n",
       "\n",
       "    .dataframe tbody tr th {\n",
       "        vertical-align: top;\n",
       "    }\n",
       "\n",
       "    .dataframe thead th {\n",
       "        text-align: right;\n",
       "    }\n",
       "</style>\n",
       "<table border=\"1\" class=\"dataframe\">\n",
       "  <thead>\n",
       "    <tr style=\"text-align: right;\">\n",
       "      <th></th>\n",
       "      <th>Sepal.Length</th>\n",
       "      <th>Sepal.Width</th>\n",
       "      <th>Petal.Length</th>\n",
       "      <th>Petal.Width</th>\n",
       "      <th>Species</th>\n",
       "    </tr>\n",
       "  </thead>\n",
       "  <tbody>\n",
       "    <tr>\n",
       "      <th>1</th>\n",
       "      <td>5.1</td>\n",
       "      <td>3.5</td>\n",
       "      <td>1.4</td>\n",
       "      <td>0.2</td>\n",
       "      <td>setosa</td>\n",
       "    </tr>\n",
       "    <tr>\n",
       "      <th>2</th>\n",
       "      <td>4.9</td>\n",
       "      <td>3.0</td>\n",
       "      <td>1.4</td>\n",
       "      <td>0.2</td>\n",
       "      <td>setosa</td>\n",
       "    </tr>\n",
       "    <tr>\n",
       "      <th>3</th>\n",
       "      <td>4.7</td>\n",
       "      <td>3.2</td>\n",
       "      <td>1.3</td>\n",
       "      <td>0.2</td>\n",
       "      <td>setosa</td>\n",
       "    </tr>\n",
       "  </tbody>\n",
       "</table>\n",
       "</div>"
      ],
      "text/plain": [
       "   Sepal.Length  Sepal.Width  Petal.Length  Petal.Width Species\n",
       "1           5.1          3.5           1.4          0.2  setosa\n",
       "2           4.9          3.0           1.4          0.2  setosa\n",
       "3           4.7          3.2           1.3          0.2  setosa"
      ]
     },
     "execution_count": 3,
     "metadata": {},
     "output_type": "execute_result"
    }
   ],
   "source": [
    "df_iris.head(3)"
   ]
  },
  {
   "cell_type": "markdown",
   "metadata": {},
   "source": [
    "Print the number of rows and columns:"
   ]
  },
  {
   "cell_type": "code",
   "execution_count": 4,
   "metadata": {},
   "outputs": [
    {
     "data": {
      "text/plain": [
       "(150, 5)"
      ]
     },
     "execution_count": 4,
     "metadata": {},
     "output_type": "execute_result"
    }
   ],
   "source": [
    "df_iris.shape"
   ]
  },
  {
   "cell_type": "markdown",
   "metadata": {},
   "source": [
    "Print the column names:"
   ]
  },
  {
   "cell_type": "code",
   "execution_count": 5,
   "metadata": {},
   "outputs": [
    {
     "data": {
      "text/plain": [
       "Index(['Sepal.Length', 'Sepal.Width', 'Petal.Length', 'Petal.Width',\n",
       "       'Species'],\n",
       "      dtype='object')"
      ]
     },
     "execution_count": 5,
     "metadata": {},
     "output_type": "execute_result"
    }
   ],
   "source": [
    "df_iris.columns"
   ]
  },
  {
   "cell_type": "markdown",
   "metadata": {},
   "source": [
    "Print the data type of each column:"
   ]
  },
  {
   "cell_type": "code",
   "execution_count": 8,
   "metadata": {},
   "outputs": [
    {
     "data": {
      "text/plain": [
       "Sepal.Length    float64\n",
       "Sepal.Width     float64\n",
       "Petal.Length    float64\n",
       "Petal.Width     float64\n",
       "Species          object\n",
       "dtype: object"
      ]
     },
     "execution_count": 8,
     "metadata": {},
     "output_type": "execute_result"
    }
   ],
   "source": [
    "df_iris.dtypes"
   ]
  },
  {
   "cell_type": "markdown",
   "metadata": {},
   "source": [
    "Print the summary statistics for each of the numeric variables. Would you recommend rescaling the data based on these statistics? Yes, because sepal length and width are proportionally much larger than petal length and petal width."
   ]
  },
  {
   "cell_type": "code",
   "execution_count": 44,
   "metadata": {},
   "outputs": [
    {
     "data": {
      "text/html": [
       "<div>\n",
       "<style scoped>\n",
       "    .dataframe tbody tr th:only-of-type {\n",
       "        vertical-align: middle;\n",
       "    }\n",
       "\n",
       "    .dataframe tbody tr th {\n",
       "        vertical-align: top;\n",
       "    }\n",
       "\n",
       "    .dataframe thead th {\n",
       "        text-align: right;\n",
       "    }\n",
       "</style>\n",
       "<table border=\"1\" class=\"dataframe\">\n",
       "  <thead>\n",
       "    <tr style=\"text-align: right;\">\n",
       "      <th></th>\n",
       "      <th>Sepal.Length</th>\n",
       "      <th>Sepal.Width</th>\n",
       "      <th>Petal.Length</th>\n",
       "      <th>Petal.Width</th>\n",
       "    </tr>\n",
       "  </thead>\n",
       "  <tbody>\n",
       "    <tr>\n",
       "      <th>count</th>\n",
       "      <td>150.000000</td>\n",
       "      <td>150.000000</td>\n",
       "      <td>150.000000</td>\n",
       "      <td>150.000000</td>\n",
       "    </tr>\n",
       "    <tr>\n",
       "      <th>mean</th>\n",
       "      <td>5.843333</td>\n",
       "      <td>3.057333</td>\n",
       "      <td>3.758000</td>\n",
       "      <td>1.199333</td>\n",
       "    </tr>\n",
       "    <tr>\n",
       "      <th>std</th>\n",
       "      <td>0.828066</td>\n",
       "      <td>0.435866</td>\n",
       "      <td>1.765298</td>\n",
       "      <td>0.762238</td>\n",
       "    </tr>\n",
       "    <tr>\n",
       "      <th>min</th>\n",
       "      <td>4.300000</td>\n",
       "      <td>2.000000</td>\n",
       "      <td>1.000000</td>\n",
       "      <td>0.100000</td>\n",
       "    </tr>\n",
       "    <tr>\n",
       "      <th>25%</th>\n",
       "      <td>5.100000</td>\n",
       "      <td>2.800000</td>\n",
       "      <td>1.600000</td>\n",
       "      <td>0.300000</td>\n",
       "    </tr>\n",
       "    <tr>\n",
       "      <th>50%</th>\n",
       "      <td>5.800000</td>\n",
       "      <td>3.000000</td>\n",
       "      <td>4.350000</td>\n",
       "      <td>1.300000</td>\n",
       "    </tr>\n",
       "    <tr>\n",
       "      <th>75%</th>\n",
       "      <td>6.400000</td>\n",
       "      <td>3.300000</td>\n",
       "      <td>5.100000</td>\n",
       "      <td>1.800000</td>\n",
       "    </tr>\n",
       "    <tr>\n",
       "      <th>max</th>\n",
       "      <td>7.900000</td>\n",
       "      <td>4.400000</td>\n",
       "      <td>6.900000</td>\n",
       "      <td>2.500000</td>\n",
       "    </tr>\n",
       "  </tbody>\n",
       "</table>\n",
       "</div>"
      ],
      "text/plain": [
       "       Sepal.Length  Sepal.Width  Petal.Length  Petal.Width\n",
       "count    150.000000   150.000000    150.000000   150.000000\n",
       "mean       5.843333     3.057333      3.758000     1.199333\n",
       "std        0.828066     0.435866      1.765298     0.762238\n",
       "min        4.300000     2.000000      1.000000     0.100000\n",
       "25%        5.100000     2.800000      1.600000     0.300000\n",
       "50%        5.800000     3.000000      4.350000     1.300000\n",
       "75%        6.400000     3.300000      5.100000     1.800000\n",
       "max        7.900000     4.400000      6.900000     2.500000"
      ]
     },
     "execution_count": 44,
     "metadata": {},
     "output_type": "execute_result"
    }
   ],
   "source": [
    "df_iris.describe()"
   ]
  },
  {
   "cell_type": "markdown",
   "metadata": {},
   "source": [
    "### 2. ) Read Table1_CustDetails the excel module dataset, Excel_Exercises.xlsx, into a dataframe, df_excel"
   ]
  },
  {
   "cell_type": "code",
   "execution_count": 24,
   "metadata": {},
   "outputs": [],
   "source": [
    "df_excel = pd.read_excel('Excel_Exercises.xlsx', index_col=0) "
   ]
  },
  {
   "cell_type": "markdown",
   "metadata": {},
   "source": [
    "Assign the first 100 rows to a new dataframe, df_excel_sample:"
   ]
  },
  {
   "cell_type": "code",
   "execution_count": 25,
   "metadata": {},
   "outputs": [],
   "source": [
    "df_excel_sample = df_excel.head(100)"
   ]
  },
  {
   "cell_type": "markdown",
   "metadata": {},
   "source": [
    "Print the number of rows of your original dataframe:"
   ]
  },
  {
   "cell_type": "code",
   "execution_count": 46,
   "metadata": {},
   "outputs": [
    {
     "data": {
      "text/plain": [
       "(7049, 11)"
      ]
     },
     "execution_count": 46,
     "metadata": {},
     "output_type": "execute_result"
    }
   ],
   "source": [
    "df_excel.shape"
   ]
  },
  {
   "cell_type": "markdown",
   "metadata": {},
   "source": [
    "Print the first 5 column names:"
   ]
  },
  {
   "cell_type": "code",
   "execution_count": 28,
   "metadata": {},
   "outputs": [
    {
     "data": {
      "text/plain": [
       "Index(['gender', 'is_senior_citizen', 'partner', 'dependents', 'phone_service',\n",
       "       'internet_service', 'contract_type', 'payment_type', 'monthly_charges',\n",
       "       'total_charges', 'churn'],\n",
       "      dtype='object')"
      ]
     },
     "execution_count": 28,
     "metadata": {},
     "output_type": "execute_result"
    }
   ],
   "source": [
    "df_excel.columns"
   ]
  },
  {
   "cell_type": "markdown",
   "metadata": {},
   "source": [
    "Print the column names that have a data type of object:"
   ]
  },
  {
   "cell_type": "code",
   "execution_count": 32,
   "metadata": {},
   "outputs": [
    {
     "data": {
      "text/plain": [
       "gender                True\n",
       "is_senior_citizen    False\n",
       "partner               True\n",
       "dependents            True\n",
       "phone_service        False\n",
       "internet_service     False\n",
       "contract_type        False\n",
       "payment_type          True\n",
       "monthly_charges      False\n",
       "total_charges        False\n",
       "churn                 True\n",
       "dtype: bool"
      ]
     },
     "execution_count": 32,
     "metadata": {},
     "output_type": "execute_result"
    }
   ],
   "source": [
    "object_columns = df_excel.dtypes == 'object'\n",
    "object_columns"
   ]
  },
  {
   "cell_type": "markdown",
   "metadata": {},
   "source": [
    "Compute the range for each of the numeric variables.:"
   ]
  },
  {
   "cell_type": "code",
   "execution_count": null,
   "metadata": {},
   "outputs": [],
   "source": []
  },
  {
   "cell_type": "markdown",
   "metadata": {},
   "source": [
    "### 3. ) Read the data from this google sheet into a dataframe, df_google"
   ]
  },
  {
   "cell_type": "code",
   "execution_count": 35,
   "metadata": {},
   "outputs": [],
   "source": [
    "sheet_url = 'https://docs.google.com/spreadsheets/d/1Uhtml8KY19LILuZsrDtlsHHDC9wuDGUSe8LTEwvdI5g/edit#gid=341089357'\n",
    "csv_export_url = sheet_url.replace('/edit#gid=', '/export?format=csv&gid=')\n",
    "df_googlesheet = pd.read_csv(csv_export_url)"
   ]
  },
  {
   "cell_type": "markdown",
   "metadata": {},
   "source": [
    "Print the first 3 rows:"
   ]
  },
  {
   "cell_type": "code",
   "execution_count": 36,
   "metadata": {},
   "outputs": [
    {
     "data": {
      "text/html": [
       "<div>\n",
       "<style scoped>\n",
       "    .dataframe tbody tr th:only-of-type {\n",
       "        vertical-align: middle;\n",
       "    }\n",
       "\n",
       "    .dataframe tbody tr th {\n",
       "        vertical-align: top;\n",
       "    }\n",
       "\n",
       "    .dataframe thead th {\n",
       "        text-align: right;\n",
       "    }\n",
       "</style>\n",
       "<table border=\"1\" class=\"dataframe\">\n",
       "  <thead>\n",
       "    <tr style=\"text-align: right;\">\n",
       "      <th></th>\n",
       "      <th>PassengerId</th>\n",
       "      <th>Survived</th>\n",
       "      <th>Pclass</th>\n",
       "      <th>Name</th>\n",
       "      <th>Sex</th>\n",
       "      <th>Age</th>\n",
       "      <th>SibSp</th>\n",
       "      <th>Parch</th>\n",
       "      <th>Ticket</th>\n",
       "      <th>Fare</th>\n",
       "      <th>Cabin</th>\n",
       "      <th>Embarked</th>\n",
       "    </tr>\n",
       "  </thead>\n",
       "  <tbody>\n",
       "    <tr>\n",
       "      <th>0</th>\n",
       "      <td>1</td>\n",
       "      <td>0</td>\n",
       "      <td>3</td>\n",
       "      <td>Braund, Mr. Owen Harris</td>\n",
       "      <td>male</td>\n",
       "      <td>22.0</td>\n",
       "      <td>1</td>\n",
       "      <td>0</td>\n",
       "      <td>A/5 21171</td>\n",
       "      <td>7.2500</td>\n",
       "      <td>NaN</td>\n",
       "      <td>S</td>\n",
       "    </tr>\n",
       "    <tr>\n",
       "      <th>1</th>\n",
       "      <td>2</td>\n",
       "      <td>1</td>\n",
       "      <td>1</td>\n",
       "      <td>Cumings, Mrs. John Bradley (Florence Briggs Thayer)</td>\n",
       "      <td>female</td>\n",
       "      <td>38.0</td>\n",
       "      <td>1</td>\n",
       "      <td>0</td>\n",
       "      <td>PC 17599</td>\n",
       "      <td>71.2833</td>\n",
       "      <td>C85</td>\n",
       "      <td>C</td>\n",
       "    </tr>\n",
       "    <tr>\n",
       "      <th>2</th>\n",
       "      <td>3</td>\n",
       "      <td>1</td>\n",
       "      <td>3</td>\n",
       "      <td>Heikkinen, Miss. Laina</td>\n",
       "      <td>female</td>\n",
       "      <td>26.0</td>\n",
       "      <td>0</td>\n",
       "      <td>0</td>\n",
       "      <td>STON/O2. 3101282</td>\n",
       "      <td>7.9250</td>\n",
       "      <td>NaN</td>\n",
       "      <td>S</td>\n",
       "    </tr>\n",
       "  </tbody>\n",
       "</table>\n",
       "</div>"
      ],
      "text/plain": [
       "   PassengerId  Survived  Pclass  \\\n",
       "0            1         0       3   \n",
       "1            2         1       1   \n",
       "2            3         1       3   \n",
       "\n",
       "                                                  Name     Sex   Age  SibSp  \\\n",
       "0                              Braund, Mr. Owen Harris    male  22.0      1   \n",
       "1  Cumings, Mrs. John Bradley (Florence Briggs Thayer)  female  38.0      1   \n",
       "2                               Heikkinen, Miss. Laina  female  26.0      0   \n",
       "\n",
       "   Parch            Ticket     Fare Cabin Embarked  \n",
       "0      0         A/5 21171   7.2500   NaN        S  \n",
       "1      0          PC 17599  71.2833   C85        C  \n",
       "2      0  STON/O2. 3101282   7.9250   NaN        S  "
      ]
     },
     "execution_count": 36,
     "metadata": {},
     "output_type": "execute_result"
    }
   ],
   "source": [
    "df_googlesheet.head(3)"
   ]
  },
  {
   "cell_type": "markdown",
   "metadata": {},
   "source": [
    "Print the number of rows and columns:"
   ]
  },
  {
   "cell_type": "code",
   "execution_count": 37,
   "metadata": {},
   "outputs": [
    {
     "data": {
      "text/plain": [
       "(891, 12)"
      ]
     },
     "execution_count": 37,
     "metadata": {},
     "output_type": "execute_result"
    }
   ],
   "source": [
    "df_googlesheet.shape"
   ]
  },
  {
   "cell_type": "markdown",
   "metadata": {},
   "source": [
    "Print the column names:"
   ]
  },
  {
   "cell_type": "code",
   "execution_count": 38,
   "metadata": {},
   "outputs": [
    {
     "data": {
      "text/plain": [
       "Index(['PassengerId', 'Survived', 'Pclass', 'Name', 'Sex', 'Age', 'SibSp',\n",
       "       'Parch', 'Ticket', 'Fare', 'Cabin', 'Embarked'],\n",
       "      dtype='object')"
      ]
     },
     "execution_count": 38,
     "metadata": {},
     "output_type": "execute_result"
    }
   ],
   "source": [
    "df_googlesheet.columns"
   ]
  },
  {
   "cell_type": "markdown",
   "metadata": {},
   "source": [
    "Print the data type of each column:"
   ]
  },
  {
   "cell_type": "code",
   "execution_count": 41,
   "metadata": {},
   "outputs": [
    {
     "data": {
      "text/plain": [
       "PassengerId      int64\n",
       "Survived         int64\n",
       "Pclass           int64\n",
       "Name            object\n",
       "Sex             object\n",
       "Age            float64\n",
       "SibSp            int64\n",
       "Parch            int64\n",
       "Ticket          object\n",
       "Fare           float64\n",
       "Cabin           object\n",
       "Embarked        object\n",
       "dtype: object"
      ]
     },
     "execution_count": 41,
     "metadata": {},
     "output_type": "execute_result"
    }
   ],
   "source": [
    "df_googlesheet.dtypes"
   ]
  },
  {
   "cell_type": "markdown",
   "metadata": {},
   "source": [
    "Print the summary statistics for each of the numeric variables:"
   ]
  },
  {
   "cell_type": "code",
   "execution_count": 42,
   "metadata": {},
   "outputs": [
    {
     "data": {
      "text/plain": [
       "<bound method NDFrame.describe of      PassengerId  Survived  Pclass  \\\n",
       "0              1         0       3   \n",
       "1              2         1       1   \n",
       "2              3         1       3   \n",
       "3              4         1       1   \n",
       "4              5         0       3   \n",
       "5              6         0       3   \n",
       "6              7         0       1   \n",
       "7              8         0       3   \n",
       "8              9         1       3   \n",
       "9             10         1       2   \n",
       "10            11         1       3   \n",
       "11            12         1       1   \n",
       "12            13         0       3   \n",
       "13            14         0       3   \n",
       "14            15         0       3   \n",
       "15            16         1       2   \n",
       "16            17         0       3   \n",
       "17            18         1       2   \n",
       "18            19         0       3   \n",
       "19            20         1       3   \n",
       "20            21         0       2   \n",
       "21            22         1       2   \n",
       "22            23         1       3   \n",
       "23            24         1       1   \n",
       "24            25         0       3   \n",
       "25            26         1       3   \n",
       "26            27         0       3   \n",
       "27            28         0       1   \n",
       "28            29         1       3   \n",
       "29            30         0       3   \n",
       "30            31         0       1   \n",
       "31            32         1       1   \n",
       "32            33         1       3   \n",
       "33            34         0       2   \n",
       "34            35         0       1   \n",
       "35            36         0       1   \n",
       "36            37         1       3   \n",
       "37            38         0       3   \n",
       "38            39         0       3   \n",
       "39            40         1       3   \n",
       "40            41         0       3   \n",
       "41            42         0       2   \n",
       "42            43         0       3   \n",
       "43            44         1       2   \n",
       "44            45         1       3   \n",
       "45            46         0       3   \n",
       "46            47         0       3   \n",
       "47            48         1       3   \n",
       "48            49         0       3   \n",
       "49            50         0       3   \n",
       "50            51         0       3   \n",
       "51            52         0       3   \n",
       "52            53         1       1   \n",
       "53            54         1       2   \n",
       "54            55         0       1   \n",
       "55            56         1       1   \n",
       "56            57         1       2   \n",
       "57            58         0       3   \n",
       "58            59         1       2   \n",
       "59            60         0       3   \n",
       "60            61         0       3   \n",
       "61            62         1       1   \n",
       "62            63         0       1   \n",
       "63            64         0       3   \n",
       "64            65         0       1   \n",
       "65            66         1       3   \n",
       "66            67         1       2   \n",
       "67            68         0       3   \n",
       "68            69         1       3   \n",
       "69            70         0       3   \n",
       "70            71         0       2   \n",
       "71            72         0       3   \n",
       "72            73         0       2   \n",
       "73            74         0       3   \n",
       "74            75         1       3   \n",
       "75            76         0       3   \n",
       "76            77         0       3   \n",
       "77            78         0       3   \n",
       "78            79         1       2   \n",
       "79            80         1       3   \n",
       "80            81         0       3   \n",
       "81            82         1       3   \n",
       "82            83         1       3   \n",
       "83            84         0       1   \n",
       "84            85         1       2   \n",
       "..           ...       ...     ...   \n",
       "806          807         0       1   \n",
       "807          808         0       3   \n",
       "808          809         0       2   \n",
       "809          810         1       1   \n",
       "810          811         0       3   \n",
       "811          812         0       3   \n",
       "812          813         0       2   \n",
       "813          814         0       3   \n",
       "814          815         0       3   \n",
       "815          816         0       1   \n",
       "816          817         0       3   \n",
       "817          818         0       2   \n",
       "818          819         0       3   \n",
       "819          820         0       3   \n",
       "820          821         1       1   \n",
       "821          822         1       3   \n",
       "822          823         0       1   \n",
       "823          824         1       3   \n",
       "824          825         0       3   \n",
       "825          826         0       3   \n",
       "826          827         0       3   \n",
       "827          828         1       2   \n",
       "828          829         1       3   \n",
       "829          830         1       1   \n",
       "830          831         1       3   \n",
       "831          832         1       2   \n",
       "832          833         0       3   \n",
       "833          834         0       3   \n",
       "834          835         0       3   \n",
       "835          836         1       1   \n",
       "836          837         0       3   \n",
       "837          838         0       3   \n",
       "838          839         1       3   \n",
       "839          840         1       1   \n",
       "840          841         0       3   \n",
       "841          842         0       2   \n",
       "842          843         1       1   \n",
       "843          844         0       3   \n",
       "844          845         0       3   \n",
       "845          846         0       3   \n",
       "846          847         0       3   \n",
       "847          848         0       3   \n",
       "848          849         0       2   \n",
       "849          850         1       1   \n",
       "850          851         0       3   \n",
       "851          852         0       3   \n",
       "852          853         0       3   \n",
       "853          854         1       1   \n",
       "854          855         0       2   \n",
       "855          856         1       3   \n",
       "856          857         1       1   \n",
       "857          858         1       1   \n",
       "858          859         1       3   \n",
       "859          860         0       3   \n",
       "860          861         0       3   \n",
       "861          862         0       2   \n",
       "862          863         1       1   \n",
       "863          864         0       3   \n",
       "864          865         0       2   \n",
       "865          866         1       2   \n",
       "866          867         1       2   \n",
       "867          868         0       1   \n",
       "868          869         0       3   \n",
       "869          870         1       3   \n",
       "870          871         0       3   \n",
       "871          872         1       1   \n",
       "872          873         0       1   \n",
       "873          874         0       3   \n",
       "874          875         1       2   \n",
       "875          876         1       3   \n",
       "876          877         0       3   \n",
       "877          878         0       3   \n",
       "878          879         0       3   \n",
       "879          880         1       1   \n",
       "880          881         1       2   \n",
       "881          882         0       3   \n",
       "882          883         0       3   \n",
       "883          884         0       2   \n",
       "884          885         0       3   \n",
       "885          886         0       3   \n",
       "886          887         0       2   \n",
       "887          888         1       1   \n",
       "888          889         0       3   \n",
       "889          890         1       1   \n",
       "890          891         0       3   \n",
       "\n",
       "                                                          Name     Sex    Age  \\\n",
       "0                                      Braund, Mr. Owen Harris    male  22.00   \n",
       "1          Cumings, Mrs. John Bradley (Florence Briggs Thayer)  female  38.00   \n",
       "2                                       Heikkinen, Miss. Laina  female  26.00   \n",
       "3                 Futrelle, Mrs. Jacques Heath (Lily May Peel)  female  35.00   \n",
       "4                                     Allen, Mr. William Henry    male  35.00   \n",
       "5                                             Moran, Mr. James    male    NaN   \n",
       "6                                      McCarthy, Mr. Timothy J    male  54.00   \n",
       "7                               Palsson, Master. Gosta Leonard    male   2.00   \n",
       "8            Johnson, Mrs. Oscar W (Elisabeth Vilhelmina Berg)  female  27.00   \n",
       "9                          Nasser, Mrs. Nicholas (Adele Achem)  female  14.00   \n",
       "10                             Sandstrom, Miss. Marguerite Rut  female   4.00   \n",
       "11                                    Bonnell, Miss. Elizabeth  female  58.00   \n",
       "12                              Saundercock, Mr. William Henry    male  20.00   \n",
       "13                                 Andersson, Mr. Anders Johan    male  39.00   \n",
       "14                        Vestrom, Miss. Hulda Amanda Adolfina  female  14.00   \n",
       "15                            Hewlett, Mrs. (Mary D Kingcome)   female  55.00   \n",
       "16                                        Rice, Master. Eugene    male   2.00   \n",
       "17                                Williams, Mr. Charles Eugene    male    NaN   \n",
       "18     Vander Planke, Mrs. Julius (Emelia Maria Vandemoortele)  female  31.00   \n",
       "19                                     Masselmani, Mrs. Fatima  female    NaN   \n",
       "20                                        Fynney, Mr. Joseph J    male  35.00   \n",
       "21                                       Beesley, Mr. Lawrence    male  34.00   \n",
       "22                                 McGowan, Miss. Anna \"Annie\"  female  15.00   \n",
       "23                                Sloper, Mr. William Thompson    male  28.00   \n",
       "24                               Palsson, Miss. Torborg Danira  female   8.00   \n",
       "25   Asplund, Mrs. Carl Oscar (Selma Augusta Emilia Johansson)  female  38.00   \n",
       "26                                     Emir, Mr. Farred Chehab    male    NaN   \n",
       "27                              Fortune, Mr. Charles Alexander    male  19.00   \n",
       "28                               O'Dwyer, Miss. Ellen \"Nellie\"  female    NaN   \n",
       "29                                         Todoroff, Mr. Lalio    male    NaN   \n",
       "30                                    Uruchurtu, Don. Manuel E    male  40.00   \n",
       "31              Spencer, Mrs. William Augustus (Marie Eugenie)  female    NaN   \n",
       "32                                    Glynn, Miss. Mary Agatha  female    NaN   \n",
       "33                                       Wheadon, Mr. Edward H    male  66.00   \n",
       "34                                     Meyer, Mr. Edgar Joseph    male  28.00   \n",
       "35                              Holverson, Mr. Alexander Oskar    male  42.00   \n",
       "36                                            Mamee, Mr. Hanna    male    NaN   \n",
       "37                                    Cann, Mr. Ernest Charles    male  21.00   \n",
       "38                          Vander Planke, Miss. Augusta Maria  female  18.00   \n",
       "39                                 Nicola-Yarred, Miss. Jamila  female  14.00   \n",
       "40              Ahlin, Mrs. Johan (Johanna Persdotter Larsson)  female  40.00   \n",
       "41    Turpin, Mrs. William John Robert (Dorothy Ann Wonnacott)  female  27.00   \n",
       "42                                         Kraeff, Mr. Theodor    male    NaN   \n",
       "43                    Laroche, Miss. Simonne Marie Anne Andree  female   3.00   \n",
       "44                               Devaney, Miss. Margaret Delia  female  19.00   \n",
       "45                                    Rogers, Mr. William John    male    NaN   \n",
       "46                                           Lennon, Mr. Denis    male    NaN   \n",
       "47                                   O'Driscoll, Miss. Bridget  female    NaN   \n",
       "48                                         Samaan, Mr. Youssef    male    NaN   \n",
       "49               Arnold-Franchi, Mrs. Josef (Josefine Franchi)  female  18.00   \n",
       "50                                  Panula, Master. Juha Niilo    male   7.00   \n",
       "51                                Nosworthy, Mr. Richard Cater    male  21.00   \n",
       "52                    Harper, Mrs. Henry Sleeper (Myna Haxtun)  female  49.00   \n",
       "53          Faunthorpe, Mrs. Lizzie (Elizabeth Anne Wilkinson)  female  29.00   \n",
       "54                              Ostby, Mr. Engelhart Cornelius    male  65.00   \n",
       "55                                           Woolner, Mr. Hugh    male    NaN   \n",
       "56                                           Rugg, Miss. Emily  female  21.00   \n",
       "57                                         Novel, Mr. Mansouer    male  28.50   \n",
       "58                                West, Miss. Constance Mirium  female   5.00   \n",
       "59                          Goodwin, Master. William Frederick    male  11.00   \n",
       "60                                       Sirayanian, Mr. Orsen    male  22.00   \n",
       "61                                         Icard, Miss. Amelie  female  38.00   \n",
       "62                                 Harris, Mr. Henry Birkhardt    male  45.00   \n",
       "63                                       Skoog, Master. Harald    male   4.00   \n",
       "64                                       Stewart, Mr. Albert A    male    NaN   \n",
       "65                                    Moubarek, Master. Gerios    male    NaN   \n",
       "66                                Nye, Mrs. (Elizabeth Ramell)  female  29.00   \n",
       "67                                    Crease, Mr. Ernest James    male  19.00   \n",
       "68                             Andersson, Miss. Erna Alexandra  female  17.00   \n",
       "69                                           Kink, Mr. Vincenz    male  26.00   \n",
       "70                                  Jenkin, Mr. Stephen Curnow    male  32.00   \n",
       "71                                  Goodwin, Miss. Lillian Amy  female  16.00   \n",
       "72                                        Hood, Mr. Ambrose Jr    male  21.00   \n",
       "73                                 Chronopoulos, Mr. Apostolos    male  26.00   \n",
       "74                                               Bing, Mr. Lee    male  32.00   \n",
       "75                                     Moen, Mr. Sigurd Hansen    male  25.00   \n",
       "76                                           Staneff, Mr. Ivan    male    NaN   \n",
       "77                                    Moutal, Mr. Rahamin Haim    male    NaN   \n",
       "78                               Caldwell, Master. Alden Gates    male   0.83   \n",
       "79                                    Dowdell, Miss. Elizabeth  female  30.00   \n",
       "80                                        Waelens, Mr. Achille    male  22.00   \n",
       "81                                 Sheerlinck, Mr. Jan Baptist    male  29.00   \n",
       "82                              McDermott, Miss. Brigdet Delia  female    NaN   \n",
       "83                                     Carrau, Mr. Francisco M    male  28.00   \n",
       "84                                         Ilett, Miss. Bertha  female  17.00   \n",
       "..                                                         ...     ...    ...   \n",
       "806                                     Andrews, Mr. Thomas Jr    male  39.00   \n",
       "807                            Pettersson, Miss. Ellen Natalia  female  18.00   \n",
       "808                                          Meyer, Mr. August    male  39.00   \n",
       "809             Chambers, Mrs. Norman Campbell (Bertha Griggs)  female  33.00   \n",
       "810                                     Alexander, Mr. William    male  26.00   \n",
       "811                                          Lester, Mr. James    male  39.00   \n",
       "812                                  Slemen, Mr. Richard James    male  35.00   \n",
       "813                         Andersson, Miss. Ebba Iris Alfrida  female   6.00   \n",
       "814                                 Tomlin, Mr. Ernest Portage    male  30.50   \n",
       "815                                           Fry, Mr. Richard    male    NaN   \n",
       "816                               Heininen, Miss. Wendla Maria  female  23.00   \n",
       "817                                         Mallet, Mr. Albert    male  31.00   \n",
       "818                           Holm, Mr. John Fredrik Alexander    male  43.00   \n",
       "819                               Skoog, Master. Karl Thorsten    male  10.00   \n",
       "820         Hays, Mrs. Charles Melville (Clara Jennings Gregg)  female  52.00   \n",
       "821                                          Lulic, Mr. Nikola    male  27.00   \n",
       "822                            Reuchlin, Jonkheer. John George    male  38.00   \n",
       "823                                         Moor, Mrs. (Beila)  female  27.00   \n",
       "824                               Panula, Master. Urho Abraham    male   2.00   \n",
       "825                                            Flynn, Mr. John    male    NaN   \n",
       "826                                               Lam, Mr. Len    male    NaN   \n",
       "827                                      Mallet, Master. Andre    male   1.00   \n",
       "828                               McCormack, Mr. Thomas Joseph    male    NaN   \n",
       "829                  Stone, Mrs. George Nelson (Martha Evelyn)  female  62.00   \n",
       "830                    Yasbeck, Mrs. Antoni (Selini Alexander)  female  15.00   \n",
       "831                            Richards, Master. George Sibley    male   0.83   \n",
       "832                                             Saad, Mr. Amin    male    NaN   \n",
       "833                                     Augustsson, Mr. Albert    male  23.00   \n",
       "834                                     Allum, Mr. Owen George    male  18.00   \n",
       "835                                Compton, Miss. Sara Rebecca  female  39.00   \n",
       "836                                           Pasic, Mr. Jakob    male  21.00   \n",
       "837                                        Sirota, Mr. Maurice    male    NaN   \n",
       "838                                            Chip, Mr. Chang    male  32.00   \n",
       "839                                       Marechal, Mr. Pierre    male    NaN   \n",
       "840                                Alhomaki, Mr. Ilmari Rudolf    male  20.00   \n",
       "841                                   Mudd, Mr. Thomas Charles    male  16.00   \n",
       "842                                    Serepeca, Miss. Augusta  female  30.00   \n",
       "843                                 Lemberopolous, Mr. Peter L    male  34.50   \n",
       "844                                        Culumovic, Mr. Jeso    male  17.00   \n",
       "845                                        Abbing, Mr. Anthony    male  42.00   \n",
       "846                                   Sage, Mr. Douglas Bullen    male    NaN   \n",
       "847                                         Markoff, Mr. Marin    male  35.00   \n",
       "848                                          Harper, Rev. John    male  28.00   \n",
       "849               Goldenberg, Mrs. Samuel L (Edwiga Grabowska)  female    NaN   \n",
       "850                    Andersson, Master. Sigvard Harald Elias    male   4.00   \n",
       "851                                        Svensson, Mr. Johan    male  74.00   \n",
       "852                                    Boulos, Miss. Nourelain  female   9.00   \n",
       "853                                  Lines, Miss. Mary Conover  female  16.00   \n",
       "854              Carter, Mrs. Ernest Courtenay (Lilian Hughes)  female  44.00   \n",
       "855                                 Aks, Mrs. Sam (Leah Rosen)  female  18.00   \n",
       "856                 Wick, Mrs. George Dennick (Mary Hitchcock)  female  45.00   \n",
       "857                                     Daly, Mr. Peter Denis     male  51.00   \n",
       "858                      Baclini, Mrs. Solomon (Latifa Qurban)  female  24.00   \n",
       "859                                           Razi, Mr. Raihed    male    NaN   \n",
       "860                                    Hansen, Mr. Claus Peter    male  41.00   \n",
       "861                                Giles, Mr. Frederick Edward    male  21.00   \n",
       "862        Swift, Mrs. Frederick Joel (Margaret Welles Barron)  female  48.00   \n",
       "863                          Sage, Miss. Dorothy Edith \"Dolly\"  female    NaN   \n",
       "864                                     Gill, Mr. John William    male  24.00   \n",
       "865                                   Bystrom, Mrs. (Karolina)  female  42.00   \n",
       "866                               Duran y More, Miss. Asuncion  female  27.00   \n",
       "867                       Roebling, Mr. Washington Augustus II    male  31.00   \n",
       "868                                van Melkebeke, Mr. Philemon    male    NaN   \n",
       "869                            Johnson, Master. Harold Theodor    male   4.00   \n",
       "870                                          Balkic, Mr. Cerin    male  26.00   \n",
       "871           Beckwith, Mrs. Richard Leonard (Sallie Monypeny)  female  47.00   \n",
       "872                                   Carlsson, Mr. Frans Olof    male  33.00   \n",
       "873                                Vander Cruyssen, Mr. Victor    male  47.00   \n",
       "874                      Abelson, Mrs. Samuel (Hannah Wizosky)  female  28.00   \n",
       "875                           Najib, Miss. Adele Kiamie \"Jane\"  female  15.00   \n",
       "876                              Gustafsson, Mr. Alfred Ossian    male  20.00   \n",
       "877                                       Petroff, Mr. Nedelio    male  19.00   \n",
       "878                                         Laleff, Mr. Kristo    male    NaN   \n",
       "879              Potter, Mrs. Thomas Jr (Lily Alexenia Wilson)  female  56.00   \n",
       "880               Shelley, Mrs. William (Imanita Parrish Hall)  female  25.00   \n",
       "881                                         Markun, Mr. Johann    male  33.00   \n",
       "882                               Dahlberg, Miss. Gerda Ulrika  female  22.00   \n",
       "883                              Banfield, Mr. Frederick James    male  28.00   \n",
       "884                                     Sutehall, Mr. Henry Jr    male  25.00   \n",
       "885                       Rice, Mrs. William (Margaret Norton)  female  39.00   \n",
       "886                                      Montvila, Rev. Juozas    male  27.00   \n",
       "887                               Graham, Miss. Margaret Edith  female  19.00   \n",
       "888                   Johnston, Miss. Catherine Helen \"Carrie\"  female    NaN   \n",
       "889                                      Behr, Mr. Karl Howell    male  26.00   \n",
       "890                                        Dooley, Mr. Patrick    male  32.00   \n",
       "\n",
       "     SibSp  Parch            Ticket      Fare        Cabin Embarked  \n",
       "0        1      0         A/5 21171    7.2500          NaN        S  \n",
       "1        1      0          PC 17599   71.2833          C85        C  \n",
       "2        0      0  STON/O2. 3101282    7.9250          NaN        S  \n",
       "3        1      0            113803   53.1000         C123        S  \n",
       "4        0      0            373450    8.0500          NaN        S  \n",
       "5        0      0            330877    8.4583          NaN        Q  \n",
       "6        0      0             17463   51.8625          E46        S  \n",
       "7        3      1            349909   21.0750          NaN        S  \n",
       "8        0      2            347742   11.1333          NaN        S  \n",
       "9        1      0            237736   30.0708          NaN        C  \n",
       "10       1      1           PP 9549   16.7000           G6        S  \n",
       "11       0      0            113783   26.5500         C103        S  \n",
       "12       0      0         A/5. 2151    8.0500          NaN        S  \n",
       "13       1      5            347082   31.2750          NaN        S  \n",
       "14       0      0            350406    7.8542          NaN        S  \n",
       "15       0      0            248706   16.0000          NaN        S  \n",
       "16       4      1            382652   29.1250          NaN        Q  \n",
       "17       0      0            244373   13.0000          NaN        S  \n",
       "18       1      0            345763   18.0000          NaN        S  \n",
       "19       0      0              2649    7.2250          NaN        C  \n",
       "20       0      0            239865   26.0000          NaN        S  \n",
       "21       0      0            248698   13.0000          D56        S  \n",
       "22       0      0            330923    8.0292          NaN        Q  \n",
       "23       0      0            113788   35.5000           A6        S  \n",
       "24       3      1            349909   21.0750          NaN        S  \n",
       "25       1      5            347077   31.3875          NaN        S  \n",
       "26       0      0              2631    7.2250          NaN        C  \n",
       "27       3      2             19950  263.0000  C23 C25 C27        S  \n",
       "28       0      0            330959    7.8792          NaN        Q  \n",
       "29       0      0            349216    7.8958          NaN        S  \n",
       "30       0      0          PC 17601   27.7208          NaN        C  \n",
       "31       1      0          PC 17569  146.5208          B78        C  \n",
       "32       0      0            335677    7.7500          NaN        Q  \n",
       "33       0      0        C.A. 24579   10.5000          NaN        S  \n",
       "34       1      0          PC 17604   82.1708          NaN        C  \n",
       "35       1      0            113789   52.0000          NaN        S  \n",
       "36       0      0              2677    7.2292          NaN        C  \n",
       "37       0      0        A./5. 2152    8.0500          NaN        S  \n",
       "38       2      0            345764   18.0000          NaN        S  \n",
       "39       1      0              2651   11.2417          NaN        C  \n",
       "40       1      0              7546    9.4750          NaN        S  \n",
       "41       1      0             11668   21.0000          NaN        S  \n",
       "42       0      0            349253    7.8958          NaN        C  \n",
       "43       1      2     SC/Paris 2123   41.5792          NaN        C  \n",
       "44       0      0            330958    7.8792          NaN        Q  \n",
       "45       0      0   S.C./A.4. 23567    8.0500          NaN        S  \n",
       "46       1      0            370371   15.5000          NaN        Q  \n",
       "47       0      0             14311    7.7500          NaN        Q  \n",
       "48       2      0              2662   21.6792          NaN        C  \n",
       "49       1      0            349237   17.8000          NaN        S  \n",
       "50       4      1           3101295   39.6875          NaN        S  \n",
       "51       0      0        A/4. 39886    7.8000          NaN        S  \n",
       "52       1      0          PC 17572   76.7292          D33        C  \n",
       "53       1      0              2926   26.0000          NaN        S  \n",
       "54       0      1            113509   61.9792          B30        C  \n",
       "55       0      0             19947   35.5000          C52        S  \n",
       "56       0      0        C.A. 31026   10.5000          NaN        S  \n",
       "57       0      0              2697    7.2292          NaN        C  \n",
       "58       1      2        C.A. 34651   27.7500          NaN        S  \n",
       "59       5      2           CA 2144   46.9000          NaN        S  \n",
       "60       0      0              2669    7.2292          NaN        C  \n",
       "61       0      0            113572   80.0000          B28      NaN  \n",
       "62       1      0             36973   83.4750          C83        S  \n",
       "63       3      2            347088   27.9000          NaN        S  \n",
       "64       0      0          PC 17605   27.7208          NaN        C  \n",
       "65       1      1              2661   15.2458          NaN        C  \n",
       "66       0      0        C.A. 29395   10.5000          F33        S  \n",
       "67       0      0         S.P. 3464    8.1583          NaN        S  \n",
       "68       4      2           3101281    7.9250          NaN        S  \n",
       "69       2      0            315151    8.6625          NaN        S  \n",
       "70       0      0        C.A. 33111   10.5000          NaN        S  \n",
       "71       5      2           CA 2144   46.9000          NaN        S  \n",
       "72       0      0      S.O.C. 14879   73.5000          NaN        S  \n",
       "73       1      0              2680   14.4542          NaN        C  \n",
       "74       0      0              1601   56.4958          NaN        S  \n",
       "75       0      0            348123    7.6500        F G73        S  \n",
       "76       0      0            349208    7.8958          NaN        S  \n",
       "77       0      0            374746    8.0500          NaN        S  \n",
       "78       0      2            248738   29.0000          NaN        S  \n",
       "79       0      0            364516   12.4750          NaN        S  \n",
       "80       0      0            345767    9.0000          NaN        S  \n",
       "81       0      0            345779    9.5000          NaN        S  \n",
       "82       0      0            330932    7.7875          NaN        Q  \n",
       "83       0      0            113059   47.1000          NaN        S  \n",
       "84       0      0        SO/C 14885   10.5000          NaN        S  \n",
       "..     ...    ...               ...       ...          ...      ...  \n",
       "806      0      0            112050    0.0000          A36        S  \n",
       "807      0      0            347087    7.7750          NaN        S  \n",
       "808      0      0            248723   13.0000          NaN        S  \n",
       "809      1      0            113806   53.1000           E8        S  \n",
       "810      0      0              3474    7.8875          NaN        S  \n",
       "811      0      0         A/4 48871   24.1500          NaN        S  \n",
       "812      0      0             28206   10.5000          NaN        S  \n",
       "813      4      2            347082   31.2750          NaN        S  \n",
       "814      0      0            364499    8.0500          NaN        S  \n",
       "815      0      0            112058    0.0000         B102        S  \n",
       "816      0      0  STON/O2. 3101290    7.9250          NaN        S  \n",
       "817      1      1   S.C./PARIS 2079   37.0042          NaN        C  \n",
       "818      0      0            C 7075    6.4500          NaN        S  \n",
       "819      3      2            347088   27.9000          NaN        S  \n",
       "820      1      1             12749   93.5000          B69        S  \n",
       "821      0      0            315098    8.6625          NaN        S  \n",
       "822      0      0             19972    0.0000          NaN        S  \n",
       "823      0      1            392096   12.4750         E121        S  \n",
       "824      4      1           3101295   39.6875          NaN        S  \n",
       "825      0      0            368323    6.9500          NaN        Q  \n",
       "826      0      0              1601   56.4958          NaN        S  \n",
       "827      0      2   S.C./PARIS 2079   37.0042          NaN        C  \n",
       "828      0      0            367228    7.7500          NaN        Q  \n",
       "829      0      0            113572   80.0000          B28      NaN  \n",
       "830      1      0              2659   14.4542          NaN        C  \n",
       "831      1      1             29106   18.7500          NaN        S  \n",
       "832      0      0              2671    7.2292          NaN        C  \n",
       "833      0      0            347468    7.8542          NaN        S  \n",
       "834      0      0              2223    8.3000          NaN        S  \n",
       "835      1      1          PC 17756   83.1583          E49        C  \n",
       "836      0      0            315097    8.6625          NaN        S  \n",
       "837      0      0            392092    8.0500          NaN        S  \n",
       "838      0      0              1601   56.4958          NaN        S  \n",
       "839      0      0             11774   29.7000          C47        C  \n",
       "840      0      0  SOTON/O2 3101287    7.9250          NaN        S  \n",
       "841      0      0       S.O./P.P. 3   10.5000          NaN        S  \n",
       "842      0      0            113798   31.0000          NaN        C  \n",
       "843      0      0              2683    6.4375          NaN        C  \n",
       "844      0      0            315090    8.6625          NaN        S  \n",
       "845      0      0         C.A. 5547    7.5500          NaN        S  \n",
       "846      8      2          CA. 2343   69.5500          NaN        S  \n",
       "847      0      0            349213    7.8958          NaN        C  \n",
       "848      0      1            248727   33.0000          NaN        S  \n",
       "849      1      0             17453   89.1042          C92        C  \n",
       "850      4      2            347082   31.2750          NaN        S  \n",
       "851      0      0            347060    7.7750          NaN        S  \n",
       "852      1      1              2678   15.2458          NaN        C  \n",
       "853      0      1          PC 17592   39.4000          D28        S  \n",
       "854      1      0            244252   26.0000          NaN        S  \n",
       "855      0      1            392091    9.3500          NaN        S  \n",
       "856      1      1             36928  164.8667          NaN        S  \n",
       "857      0      0            113055   26.5500          E17        S  \n",
       "858      0      3              2666   19.2583          NaN        C  \n",
       "859      0      0              2629    7.2292          NaN        C  \n",
       "860      2      0            350026   14.1083          NaN        S  \n",
       "861      1      0             28134   11.5000          NaN        S  \n",
       "862      0      0             17466   25.9292          D17        S  \n",
       "863      8      2          CA. 2343   69.5500          NaN        S  \n",
       "864      0      0            233866   13.0000          NaN        S  \n",
       "865      0      0            236852   13.0000          NaN        S  \n",
       "866      1      0     SC/PARIS 2149   13.8583          NaN        C  \n",
       "867      0      0          PC 17590   50.4958          A24        S  \n",
       "868      0      0            345777    9.5000          NaN        S  \n",
       "869      1      1            347742   11.1333          NaN        S  \n",
       "870      0      0            349248    7.8958          NaN        S  \n",
       "871      1      1             11751   52.5542          D35        S  \n",
       "872      0      0               695    5.0000  B51 B53 B55        S  \n",
       "873      0      0            345765    9.0000          NaN        S  \n",
       "874      1      0         P/PP 3381   24.0000          NaN        C  \n",
       "875      0      0              2667    7.2250          NaN        C  \n",
       "876      0      0              7534    9.8458          NaN        S  \n",
       "877      0      0            349212    7.8958          NaN        S  \n",
       "878      0      0            349217    7.8958          NaN        S  \n",
       "879      0      1             11767   83.1583          C50        C  \n",
       "880      0      1            230433   26.0000          NaN        S  \n",
       "881      0      0            349257    7.8958          NaN        S  \n",
       "882      0      0              7552   10.5167          NaN        S  \n",
       "883      0      0  C.A./SOTON 34068   10.5000          NaN        S  \n",
       "884      0      0   SOTON/OQ 392076    7.0500          NaN        S  \n",
       "885      0      5            382652   29.1250          NaN        Q  \n",
       "886      0      0            211536   13.0000          NaN        S  \n",
       "887      0      0            112053   30.0000          B42        S  \n",
       "888      1      2        W./C. 6607   23.4500          NaN        S  \n",
       "889      0      0            111369   30.0000         C148        C  \n",
       "890      0      0            370376    7.7500          NaN        Q  \n",
       "\n",
       "[891 rows x 12 columns]>"
      ]
     },
     "execution_count": 42,
     "metadata": {},
     "output_type": "execute_result"
    }
   ],
   "source": [
    "df_googlesheet.describe"
   ]
  },
  {
   "cell_type": "markdown",
   "metadata": {},
   "source": [
    "Print the unique values for each of your categorical variables:"
   ]
  },
  {
   "cell_type": "code",
   "execution_count": null,
   "metadata": {},
   "outputs": [],
   "source": []
  }
 ],
 "metadata": {
  "kernelspec": {
   "display_name": "Python 3",
   "language": "python",
   "name": "python3"
  },
  "language_info": {
   "codemirror_mode": {
    "name": "ipython",
    "version": 3
   },
   "file_extension": ".py",
   "mimetype": "text/x-python",
   "name": "python",
   "nbconvert_exporter": "python",
   "pygments_lexer": "ipython3",
   "version": "3.7.3"
  }
 },
 "nbformat": 4,
 "nbformat_minor": 2
}
