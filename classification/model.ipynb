{
 "cells": [
  {
   "cell_type": "markdown",
   "metadata": {},
   "source": [
    "# Day 4 Exercises - Logistic Regression"
   ]
  },
  {
   "cell_type": "markdown",
   "metadata": {},
   "source": [
    "#### Set up environment"
   ]
  },
  {
   "cell_type": "code",
   "execution_count": 44,
   "metadata": {},
   "outputs": [],
   "source": [
    "#standard imports\n",
    "import pandas as pd\n",
    "import numpy as np\n",
    "import pydataset\n",
    "import acquire\n",
    "import warnings\n",
    "warnings.filterwarnings('ignore')\n",
    "\n",
    "# plotting imports\n",
    "%matplotlib inline\n",
    "import matplotlib.pyplot as plt\n",
    "import seaborn as sns\n",
    "\n",
    "#modeling imports\n",
    "from sklearn.model_selection import train_test_split\n",
    "from sklearn.linear_model import LogisticRegression\n",
    "from sklearn.metrics import classification_report\n",
    "from sklearn.metrics import confusion_matrix\n",
    "from sklearn.tree import DecisionTreeClassifier\n",
    "import graphviz\n",
    "from graphviz import Graph"
   ]
  },
  {
   "cell_type": "markdown",
   "metadata": {},
   "source": [
    "### Acquire and Prep Data"
   ]
  },
  {
   "cell_type": "code",
   "execution_count": 2,
   "metadata": {},
   "outputs": [
    {
     "data": {
      "text/html": [
       "<div>\n",
       "<style scoped>\n",
       "    .dataframe tbody tr th:only-of-type {\n",
       "        vertical-align: middle;\n",
       "    }\n",
       "\n",
       "    .dataframe tbody tr th {\n",
       "        vertical-align: top;\n",
       "    }\n",
       "\n",
       "    .dataframe thead th {\n",
       "        text-align: right;\n",
       "    }\n",
       "</style>\n",
       "<table border=\"1\" class=\"dataframe\">\n",
       "  <thead>\n",
       "    <tr style=\"text-align: right;\">\n",
       "      <th></th>\n",
       "      <th>sepal_length</th>\n",
       "      <th>sepal_width</th>\n",
       "      <th>petal_length</th>\n",
       "      <th>petal_width</th>\n",
       "      <th>species</th>\n",
       "    </tr>\n",
       "  </thead>\n",
       "  <tbody>\n",
       "    <tr>\n",
       "      <th>0</th>\n",
       "      <td>5.1</td>\n",
       "      <td>3.5</td>\n",
       "      <td>1.4</td>\n",
       "      <td>0.2</td>\n",
       "      <td>setosa</td>\n",
       "    </tr>\n",
       "    <tr>\n",
       "      <th>1</th>\n",
       "      <td>4.9</td>\n",
       "      <td>3.0</td>\n",
       "      <td>1.4</td>\n",
       "      <td>0.2</td>\n",
       "      <td>setosa</td>\n",
       "    </tr>\n",
       "    <tr>\n",
       "      <th>2</th>\n",
       "      <td>4.7</td>\n",
       "      <td>3.2</td>\n",
       "      <td>1.3</td>\n",
       "      <td>0.2</td>\n",
       "      <td>setosa</td>\n",
       "    </tr>\n",
       "    <tr>\n",
       "      <th>3</th>\n",
       "      <td>4.6</td>\n",
       "      <td>3.1</td>\n",
       "      <td>1.5</td>\n",
       "      <td>0.2</td>\n",
       "      <td>setosa</td>\n",
       "    </tr>\n",
       "    <tr>\n",
       "      <th>4</th>\n",
       "      <td>5.0</td>\n",
       "      <td>3.6</td>\n",
       "      <td>1.4</td>\n",
       "      <td>0.2</td>\n",
       "      <td>setosa</td>\n",
       "    </tr>\n",
       "  </tbody>\n",
       "</table>\n",
       "</div>"
      ],
      "text/plain": [
       "   sepal_length  sepal_width  petal_length  petal_width species\n",
       "0           5.1          3.5           1.4          0.2  setosa\n",
       "1           4.9          3.0           1.4          0.2  setosa\n",
       "2           4.7          3.2           1.3          0.2  setosa\n",
       "3           4.6          3.1           1.5          0.2  setosa\n",
       "4           5.0          3.6           1.4          0.2  setosa"
      ]
     },
     "execution_count": 2,
     "metadata": {},
     "output_type": "execute_result"
    }
   ],
   "source": [
    "iris = acquire.get_iris_data()\n",
    "iris.drop(columns=['species_id', 'measurement_id'], inplace = True)\n",
    "iris.rename(columns={'species_name':'species'}, inplace = True)\n",
    "iris.head()"
   ]
  },
  {
   "cell_type": "markdown",
   "metadata": {},
   "source": [
    "#### Split Data"
   ]
  },
  {
   "cell_type": "code",
   "execution_count": 40,
   "metadata": {},
   "outputs": [],
   "source": [
    "X=iris[['sepal_length','sepal_width','petal_length','petal_width']]\n",
    "y=iris[['species']]\n",
    "X_train,X_test,y_train,y_test=train_test_split(X,y,train_size=.70,random_state=123)"
   ]
  },
  {
   "cell_type": "markdown",
   "metadata": {},
   "source": [
    "### 1.) Fit the logistic regression classifier to your training sample and transform, i.e. make predictions on the training sample."
   ]
  },
  {
   "cell_type": "code",
   "execution_count": 4,
   "metadata": {
    "scrolled": true
   },
   "outputs": [
    {
     "data": {
      "text/plain": [
       "LogisticRegression(C=1.0, class_weight=None, dual=False, fit_intercept=True,\n",
       "                   intercept_scaling=1, l1_ratio=None, max_iter=100,\n",
       "                   multi_class='warn', n_jobs=None, penalty='l2',\n",
       "                   random_state=123, solver='warn', tol=0.0001, verbose=0,\n",
       "                   warm_start=False)"
      ]
     },
     "execution_count": 4,
     "metadata": {},
     "output_type": "execute_result"
    }
   ],
   "source": [
    "# Create\n",
    "logit=LogisticRegression(random_state =123)\n",
    "# Fit\n",
    "logit.fit(X_train,y_train)"
   ]
  },
  {
   "cell_type": "code",
   "execution_count": 5,
   "metadata": {},
   "outputs": [
    {
     "name": "stdout",
     "output_type": "stream",
     "text": [
      "Coefficient: \n",
      " [[ 0.38421538  1.32718255 -2.11307588 -0.94269552]\n",
      " [ 0.43099717 -1.34596217  0.4506587  -1.07117492]\n",
      " [-1.517952   -1.52141607  2.26046444  2.12613123]]\n",
      "Intercept: \n",
      " [ 0.25726194  0.58107381 -0.87235291]\n"
     ]
    }
   ],
   "source": [
    "# Just previewing the coefficients and y-intercept\n",
    "print('Coefficient: \\n', logit.coef_)\n",
    "print('Intercept: \\n', logit.intercept_)"
   ]
  },
  {
   "cell_type": "code",
   "execution_count": 6,
   "metadata": {},
   "outputs": [
    {
     "data": {
      "text/plain": [
       "array(['virginica', 'virginica', 'versicolor', 'setosa', 'setosa',\n",
       "       'virginica', 'setosa', 'setosa', 'versicolor', 'versicolor',\n",
       "       'versicolor', 'versicolor', 'virginica', 'versicolor', 'virginica',\n",
       "       'setosa', 'virginica', 'versicolor', 'setosa', 'setosa',\n",
       "       'virginica', 'versicolor', 'virginica', 'virginica', 'setosa',\n",
       "       'versicolor', 'versicolor', 'virginica', 'setosa', 'versicolor',\n",
       "       'versicolor', 'versicolor', 'setosa', 'virginica', 'virginica',\n",
       "       'setosa', 'setosa', 'versicolor', 'versicolor', 'virginica',\n",
       "       'setosa', 'setosa', 'versicolor', 'setosa', 'virginica',\n",
       "       'virginica', 'setosa', 'virginica', 'setosa', 'setosa',\n",
       "       'versicolor', 'setosa', 'setosa', 'versicolor', 'virginica',\n",
       "       'versicolor', 'versicolor', 'versicolor', 'setosa', 'setosa',\n",
       "       'versicolor', 'virginica', 'setosa', 'setosa', 'versicolor',\n",
       "       'versicolor', 'versicolor', 'virginica', 'versicolor',\n",
       "       'versicolor', 'versicolor', 'virginica', 'setosa', 'setosa',\n",
       "       'versicolor', 'virginica', 'virginica', 'virginica', 'virginica',\n",
       "       'setosa', 'virginica', 'setosa', 'versicolor', 'versicolor',\n",
       "       'setosa', 'versicolor', 'virginica', 'versicolor', 'virginica',\n",
       "       'virginica', 'setosa', 'versicolor', 'setosa', 'virginica',\n",
       "       'virginica', 'versicolor', 'versicolor', 'virginica', 'virginica',\n",
       "       'virginica', 'setosa', 'versicolor', 'virginica', 'virginica',\n",
       "       'virginica'], dtype=object)"
      ]
     },
     "execution_count": 6,
     "metadata": {},
     "output_type": "execute_result"
    }
   ],
   "source": [
    "# Predict\n",
    "y_pred = logit.predict(X_train)\n",
    "y_pred"
   ]
  },
  {
   "cell_type": "code",
   "execution_count": 7,
   "metadata": {},
   "outputs": [
    {
     "data": {
      "text/plain": [
       "array([[8.82438477e-04, 2.27909291e-01, 7.71208271e-01],\n",
       "       [9.04840755e-04, 1.89452140e-01, 8.09643019e-01],\n",
       "       [1.61592108e-02, 6.53564224e-01, 3.30276565e-01],\n",
       "       [8.89718868e-01, 1.10252519e-01, 2.86122251e-05],\n",
       "       [8.02996773e-01, 1.96869865e-01, 1.33362269e-04],\n",
       "       [4.01764007e-03, 3.66910909e-01, 6.29071451e-01],\n",
       "       [8.27624301e-01, 1.72231115e-01, 1.44583818e-04],\n",
       "       [7.68419373e-01, 2.31515414e-01, 6.52132008e-05],\n",
       "       [2.05897310e-02, 7.67212016e-01, 2.12198253e-01],\n",
       "       [1.73946587e-02, 6.62952984e-01, 3.19652358e-01],\n",
       "       [2.43782930e-02, 6.69593647e-01, 3.06028060e-01],\n",
       "       [1.28790640e-01, 8.21403635e-01, 4.98057249e-02],\n",
       "       [1.16916979e-03, 3.32890868e-01, 6.65939962e-01],\n",
       "       [4.72232958e-02, 8.47334030e-01, 1.05442674e-01],\n",
       "       [1.54834217e-03, 2.44290941e-01, 7.54160717e-01],\n",
       "       [6.75565848e-01, 3.24060721e-01, 3.73431196e-04],\n",
       "       [9.74637491e-04, 3.03672885e-01, 6.95352477e-01],\n",
       "       [4.98965898e-02, 7.39623700e-01, 2.10479710e-01],\n",
       "       [8.86767680e-01, 1.13191023e-01, 4.12962376e-05],\n",
       "       [8.30498860e-01, 1.69420754e-01, 8.03863753e-05],\n",
       "       [6.79927776e-04, 3.72309233e-01, 6.27010839e-01],\n",
       "       [3.88607341e-02, 8.35067436e-01, 1.26071830e-01],\n",
       "       [6.64293867e-05, 4.40794444e-01, 5.59139127e-01],\n",
       "       [2.42935056e-05, 4.29856399e-01, 5.70119307e-01],\n",
       "       [8.79754570e-01, 1.20156077e-01, 8.93532914e-05],\n",
       "       [3.78003779e-02, 7.40736297e-01, 2.21463325e-01],\n",
       "       [5.54885193e-02, 8.24164276e-01, 1.20347204e-01],\n",
       "       [2.33469289e-03, 3.35896460e-01, 6.61768848e-01],\n",
       "       [7.62854176e-01, 2.37075971e-01, 6.98528324e-05],\n",
       "       [9.89768470e-04, 5.40785723e-01, 4.58224509e-01],\n",
       "       [2.33686955e-02, 6.11080233e-01, 3.65551072e-01],\n",
       "       [3.07071965e-02, 8.62348260e-01, 1.06944544e-01],\n",
       "       [7.49312041e-01, 2.50587001e-01, 1.00957868e-04],\n",
       "       [4.55042603e-04, 3.37018030e-01, 6.62526928e-01],\n",
       "       [1.33746445e-03, 4.16566039e-01, 5.82096496e-01],\n",
       "       [8.78732158e-01, 1.21140582e-01, 1.27259682e-04],\n",
       "       [7.70507480e-01, 2.29417344e-01, 7.51757027e-05],\n",
       "       [5.92105962e-02, 8.17155249e-01, 1.23634154e-01],\n",
       "       [1.28849985e-02, 7.16936953e-01, 2.70178049e-01],\n",
       "       [2.82268638e-04, 2.02606657e-01, 7.97111074e-01],\n",
       "       [8.90894780e-01, 1.09102270e-01, 2.95023426e-06],\n",
       "       [8.62160956e-01, 1.37750968e-01, 8.80764247e-05],\n",
       "       [4.04074210e-02, 7.85138504e-01, 1.74454075e-01],\n",
       "       [8.43966869e-01, 1.55940380e-01, 9.27504674e-05],\n",
       "       [8.00946374e-03, 3.57747247e-01, 6.34243289e-01],\n",
       "       [1.64310947e-03, 3.77206548e-01, 6.21150343e-01],\n",
       "       [7.78298724e-01, 2.21579731e-01, 1.21545476e-04],\n",
       "       [2.58674713e-04, 4.35765626e-01, 5.63975699e-01],\n",
       "       [9.36867003e-01, 6.31270596e-02, 5.93714534e-06],\n",
       "       [8.56194741e-01, 1.43787774e-01, 1.74850905e-05],\n",
       "       [5.84510248e-03, 5.79012152e-01, 4.15142746e-01],\n",
       "       [8.96205730e-01, 1.03772715e-01, 2.15548349e-05],\n",
       "       [8.54661274e-01, 1.45322344e-01, 1.63819837e-05],\n",
       "       [1.99344859e-02, 8.22846690e-01, 1.57218824e-01],\n",
       "       [1.99689008e-04, 4.44077958e-01, 5.55722353e-01],\n",
       "       [3.73155630e-02, 8.31792064e-01, 1.30892373e-01],\n",
       "       [1.53757660e-01, 7.31134053e-01, 1.15108287e-01],\n",
       "       [4.00234204e-02, 7.92193038e-01, 1.67783541e-01],\n",
       "       [7.96093661e-01, 2.03773111e-01, 1.33227874e-04],\n",
       "       [8.64596315e-01, 1.35371173e-01, 3.25122963e-05],\n",
       "       [9.80023185e-03, 7.77559523e-01, 2.12640246e-01],\n",
       "       [5.48426134e-04, 4.50187312e-01, 5.49264262e-01],\n",
       "       [7.81108300e-01, 2.18809319e-01, 8.23809927e-05],\n",
       "       [8.33869019e-01, 1.66101387e-01, 2.95948348e-05],\n",
       "       [2.28138035e-02, 6.56330402e-01, 3.20855795e-01],\n",
       "       [4.32028187e-02, 5.68852498e-01, 3.87944684e-01],\n",
       "       [3.60044747e-02, 7.97818184e-01, 1.66177342e-01],\n",
       "       [4.22711344e-04, 3.77187972e-01, 6.22389317e-01],\n",
       "       [1.33207024e-02, 7.66828121e-01, 2.19851177e-01],\n",
       "       [3.81885091e-02, 7.88669432e-01, 1.73142059e-01],\n",
       "       [3.90379077e-02, 7.15909273e-01, 2.45052819e-01],\n",
       "       [1.00452112e-04, 4.08043851e-01, 5.91855697e-01],\n",
       "       [8.27473540e-01, 1.72479834e-01, 4.66256511e-05],\n",
       "       [8.58983492e-01, 1.40997330e-01, 1.91788389e-05],\n",
       "       [4.24895862e-02, 6.64760424e-01, 2.92749990e-01],\n",
       "       [7.34734440e-04, 2.93501189e-01, 7.05764077e-01],\n",
       "       [1.31656643e-03, 3.72582843e-01, 6.26100591e-01],\n",
       "       [6.77283439e-04, 4.44211541e-01, 5.55111176e-01],\n",
       "       [2.03536652e-03, 3.66559513e-01, 6.31405120e-01],\n",
       "       [8.22721743e-01, 1.77238480e-01, 3.97776073e-05],\n",
       "       [1.27692388e-02, 4.27335917e-01, 5.59894845e-01],\n",
       "       [8.21949780e-01, 1.77987317e-01, 6.29029742e-05],\n",
       "       [4.23373004e-02, 8.31995342e-01, 1.25667357e-01],\n",
       "       [1.30288611e-02, 6.05691212e-01, 3.81279927e-01],\n",
       "       [8.17517130e-01, 1.82440198e-01, 4.26717024e-05],\n",
       "       [4.20421316e-03, 6.05265218e-01, 3.90530569e-01],\n",
       "       [6.52255442e-04, 2.66649337e-01, 7.32698408e-01],\n",
       "       [1.56148583e-02, 6.06453759e-01, 3.77931383e-01],\n",
       "       [6.56176037e-04, 2.20424118e-01, 7.78919706e-01],\n",
       "       [9.50110669e-04, 3.94092969e-01, 6.04956920e-01],\n",
       "       [9.02733598e-01, 9.72561772e-02, 1.02244709e-05],\n",
       "       [1.06975848e-02, 7.05450285e-01, 2.83852130e-01],\n",
       "       [8.20325129e-01, 1.79582412e-01, 9.24593299e-05],\n",
       "       [1.54587116e-03, 1.96600930e-01, 8.01853199e-01],\n",
       "       [9.23928606e-04, 3.30488278e-01, 6.68587794e-01],\n",
       "       [3.70117692e-02, 6.95887618e-01, 2.67100613e-01],\n",
       "       [1.11681041e-01, 7.52173172e-01, 1.36145787e-01],\n",
       "       [2.82968017e-03, 4.50587880e-01, 5.46582439e-01],\n",
       "       [2.83685018e-03, 3.13350163e-01, 6.83812987e-01],\n",
       "       [1.74925111e-03, 4.30197419e-01, 5.68053330e-01],\n",
       "       [8.55165643e-01, 1.44799577e-01, 3.47801197e-05],\n",
       "       [2.39731820e-01, 6.97805511e-01, 6.24626692e-02],\n",
       "       [1.47804120e-02, 4.85269041e-01, 4.99950547e-01],\n",
       "       [4.27240634e-03, 4.44651406e-01, 5.51076188e-01],\n",
       "       [5.24517344e-04, 2.25969521e-01, 7.73505961e-01]])"
      ]
     },
     "execution_count": 7,
     "metadata": {},
     "output_type": "execute_result"
    }
   ],
   "source": [
    "# Check probability of predictions\n",
    "y_pred_proba=logit.predict_proba(X_train)\n",
    "y_pred_proba"
   ]
  },
  {
   "cell_type": "markdown",
   "metadata": {},
   "source": [
    "### 2.) Evaluate your in-sample results using the model score, confusion matrix, and classification report."
   ]
  },
  {
   "cell_type": "code",
   "execution_count": 16,
   "metadata": {},
   "outputs": [
    {
     "name": "stdout",
     "output_type": "stream",
     "text": [
      "Accuracy of Logistic regression on training set: 0.95\n"
     ]
    }
   ],
   "source": [
    "print('Accuracy of Logistic regression on training set: {:.2f}'.format(logit.score(X_train,y_train)))"
   ]
  },
  {
   "cell_type": "code",
   "execution_count": 18,
   "metadata": {},
   "outputs": [
    {
     "name": "stdout",
     "output_type": "stream",
     "text": [
      "Confusion Matrix: \n",
      "\n",
      "             setosa  versicolor  virginica\n",
      "setosa          32           0          0\n",
      "versicolor       0          36          4\n",
      "virginica        0           1         32\n"
     ]
    }
   ],
   "source": [
    "cm = confusion_matrix(y_train,y_pred)\n",
    "labels=sorted(y_train.species.unique())\n",
    "pretty_cr=pd.DataFrame(confusion_matrix(y_train,y_pred),index=labels,columns=labels)\n",
    "print('Confusion Matrix: \\n\\n', pretty_cr)"
   ]
  },
  {
   "cell_type": "code",
   "execution_count": 19,
   "metadata": {},
   "outputs": [
    {
     "name": "stdout",
     "output_type": "stream",
     "text": [
      "Classification Report: \n",
      "\n",
      "               precision    recall  f1-score   support\n",
      "\n",
      "      setosa       1.00      1.00      1.00        32\n",
      "  versicolor       0.97      0.90      0.94        40\n",
      "   virginica       0.89      0.97      0.93        33\n",
      "\n",
      "    accuracy                           0.95       105\n",
      "   macro avg       0.95      0.96      0.95       105\n",
      "weighted avg       0.95      0.95      0.95       105\n",
      "\n"
     ]
    }
   ],
   "source": [
    "cr=(classification_report(y_train,y_pred,output_dict=False))\n",
    "print(\"Classification Report: \\n\\n\",cr)"
   ]
  },
  {
   "cell_type": "markdown",
   "metadata": {},
   "source": [
    "### 3.) Print and clearly label the following: Accuracy, true positive rate, false positive rate, true negative rate, false negative rate, precision, recall, f1-score, and support."
   ]
  },
  {
   "cell_type": "code",
   "execution_count": 36,
   "metadata": {},
   "outputs": [],
   "source": [
    "FP = cm.sum(axis=0) - np.diag(cm)  \n",
    "FN = cm.sum(axis=1) - np.diag(cm)\n",
    "TP = np.diag(cm)\n",
    "TN = cm.sum() - (FP + FN + TP)\n",
    "\n",
    "# Sensitivity, hit rate, recall, or true positive rate\n",
    "TPR = TP/(TP+FN)\n",
    "# Specificity or true negative rate\n",
    "TNR = TN/(TN+FP) \n",
    "# Precision or positive predictive value\n",
    "PPV = TP/(TP+FP)\n",
    "# Negative predictive value\n",
    "NPV = TN/(TN+FN)\n",
    "# Fall out or false positive rate\n",
    "FPR = FP/(FP+TN)\n",
    "# False negative rate\n",
    "FNR = FN/(TP+FN)\n",
    "# False discovery rate\n",
    "FDR = FP/(TP+FP)\n",
    "\n",
    "f1_score=(TPR+PPV)/2\n",
    "\n",
    "# Overall accuracy\n",
    "ACC = (TP+TN)/(TP+FP+FN+TN)"
   ]
  },
  {
   "cell_type": "code",
   "execution_count": 37,
   "metadata": {},
   "outputs": [
    {
     "name": "stdout",
     "output_type": "stream",
     "text": [
      "Accuracy:  [1.         0.95238095 0.95238095]\n",
      "True Positive Rate:  [1.         0.9        0.96969697]\n",
      "False Positive Rate:  [0.         0.01538462 0.05555556]\n",
      "True Negative Rate:  [1.         0.98461538 0.94444444]\n",
      "False Negative Rate:  [0.         0.1        0.03030303]\n",
      "Precision:  [1.         0.97297297 0.88888889]\n",
      "Recall:  [1.         0.9        0.96969697]\n",
      "F1-Score:  [1.         0.93648649 0.92929293]\n"
     ]
    }
   ],
   "source": [
    "print(\"Accuracy: \", ACC)\n",
    "print(\"True Positive Rate: \", TPR)\n",
    "print(\"False Positive Rate: \", FPR)\n",
    "print(\"True Negative Rate: \", TNR)\n",
    "print(\"False Negative Rate: \", FNR)\n",
    "print('Precision: ', PPV)\n",
    "print(\"Recall: \", TPR)\n",
    "print(\"F1-Score: \", f1_score)"
   ]
  },
  {
   "cell_type": "markdown",
   "metadata": {},
   "source": [
    "### 4.) Look in the scikit-learn documentation to research the solver parameter. What is your best option(s) for the particular problem you are trying to solve and the data to be used?"
   ]
  },
  {
   "cell_type": "code",
   "execution_count": 39,
   "metadata": {},
   "outputs": [
    {
     "name": "stdout",
     "output_type": "stream",
     "text": [
      "Accuracy of Logistic regression on training set: 0.98\n"
     ]
    }
   ],
   "source": [
    "print('Accuracy of Logistic regression on training set: {:.2f}'.format(logit.score(X_test,y_test)))"
   ]
  },
  {
   "cell_type": "markdown",
   "metadata": {},
   "source": [
    "### 5.) Run through steps 2-4 using another solver (from question 5)"
   ]
  },
  {
   "cell_type": "code",
   "execution_count": null,
   "metadata": {},
   "outputs": [],
   "source": []
  },
  {
   "cell_type": "markdown",
   "metadata": {},
   "source": [
    "### 6.) Which performs better on your in-sample data?"
   ]
  },
  {
   "cell_type": "code",
   "execution_count": null,
   "metadata": {},
   "outputs": [],
   "source": []
  },
  {
   "cell_type": "code",
   "execution_count": null,
   "metadata": {},
   "outputs": [],
   "source": []
  },
  {
   "cell_type": "markdown",
   "metadata": {},
   "source": [
    "# Day 5 Exercises - Decision Tree"
   ]
  },
  {
   "cell_type": "markdown",
   "metadata": {},
   "source": [
    "### 1.) Fit the decision tree classifier to your training sample and transform (i.e. make predictions on the training sample)"
   ]
  },
  {
   "cell_type": "code",
   "execution_count": 50,
   "metadata": {},
   "outputs": [
    {
     "data": {
      "text/plain": [
       "array(['virginica', 'virginica', 'versicolor', 'setosa', 'setosa',\n",
       "       'virginica', 'setosa', 'setosa', 'versicolor', 'versicolor',\n",
       "       'versicolor', 'versicolor', 'virginica', 'versicolor', 'virginica',\n",
       "       'setosa', 'virginica', 'versicolor', 'setosa', 'setosa',\n",
       "       'virginica', 'versicolor', 'virginica', 'virginica', 'setosa',\n",
       "       'versicolor', 'versicolor', 'virginica', 'setosa', 'virginica',\n",
       "       'versicolor', 'versicolor', 'setosa', 'virginica', 'virginica',\n",
       "       'setosa', 'setosa', 'versicolor', 'versicolor', 'virginica',\n",
       "       'setosa', 'setosa', 'versicolor', 'setosa', 'versicolor',\n",
       "       'virginica', 'setosa', 'virginica', 'setosa', 'setosa',\n",
       "       'versicolor', 'setosa', 'setosa', 'versicolor', 'virginica',\n",
       "       'versicolor', 'versicolor', 'versicolor', 'setosa', 'setosa',\n",
       "       'versicolor', 'virginica', 'setosa', 'setosa', 'versicolor',\n",
       "       'versicolor', 'versicolor', 'virginica', 'versicolor',\n",
       "       'versicolor', 'versicolor', 'virginica', 'setosa', 'setosa',\n",
       "       'versicolor', 'virginica', 'virginica', 'virginica', 'virginica',\n",
       "       'setosa', 'versicolor', 'setosa', 'versicolor', 'versicolor',\n",
       "       'setosa', 'versicolor', 'virginica', 'versicolor', 'virginica',\n",
       "       'virginica', 'setosa', 'versicolor', 'setosa', 'virginica',\n",
       "       'virginica', 'versicolor', 'versicolor', 'virginica', 'versicolor',\n",
       "       'versicolor', 'setosa', 'versicolor', 'versicolor', 'versicolor',\n",
       "       'virginica'], dtype=object)"
      ]
     },
     "execution_count": 50,
     "metadata": {},
     "output_type": "execute_result"
    }
   ],
   "source": [
    "# Create the decision tree object\n",
    "clf = DecisionTreeClassifier(criterion='entropy', max_depth=3, random_state=123)\n",
    "# Fit\n",
    "clf.fit(X_train, y_train)\n",
    "# Predict species\n",
    "y_pred_tree = clf.predict(X_train)\n",
    "# Preview\n",
    "y_pred_tree"
   ]
  },
  {
   "cell_type": "code",
   "execution_count": 51,
   "metadata": {},
   "outputs": [
    {
     "data": {
      "text/plain": [
       "array([[0.   , 0.   , 1.   ],\n",
       "       [0.   , 0.   , 1.   ],\n",
       "       [0.   , 0.975, 0.025],\n",
       "       [1.   , 0.   , 0.   ],\n",
       "       [1.   , 0.   , 0.   ],\n",
       "       [0.   , 0.   , 1.   ],\n",
       "       [1.   , 0.   , 0.   ],\n",
       "       [1.   , 0.   , 0.   ],\n",
       "       [0.   , 0.975, 0.025],\n",
       "       [0.   , 0.975, 0.025],\n",
       "       [0.   , 0.975, 0.025],\n",
       "       [0.   , 0.975, 0.025],\n",
       "       [0.   , 0.   , 1.   ],\n",
       "       [0.   , 0.975, 0.025],\n",
       "       [0.   , 0.   , 1.   ],\n",
       "       [1.   , 0.   , 0.   ],\n",
       "       [0.   , 0.   , 1.   ],\n",
       "       [0.   , 0.975, 0.025],\n",
       "       [1.   , 0.   , 0.   ],\n",
       "       [1.   , 0.   , 0.   ],\n",
       "       [0.   , 0.   , 1.   ],\n",
       "       [0.   , 0.975, 0.025],\n",
       "       [0.   , 0.   , 1.   ],\n",
       "       [0.   , 0.   , 1.   ],\n",
       "       [1.   , 0.   , 0.   ],\n",
       "       [0.   , 0.975, 0.025],\n",
       "       [0.   , 0.975, 0.025],\n",
       "       [0.   , 0.   , 1.   ],\n",
       "       [1.   , 0.   , 0.   ],\n",
       "       [0.   , 0.   , 1.   ],\n",
       "       [0.   , 0.975, 0.025],\n",
       "       [0.   , 0.975, 0.025],\n",
       "       [1.   , 0.   , 0.   ],\n",
       "       [0.   , 0.   , 1.   ],\n",
       "       [0.   , 0.   , 1.   ],\n",
       "       [1.   , 0.   , 0.   ],\n",
       "       [1.   , 0.   , 0.   ],\n",
       "       [0.   , 0.975, 0.025],\n",
       "       [0.   , 0.975, 0.025],\n",
       "       [0.   , 0.   , 1.   ],\n",
       "       [1.   , 0.   , 0.   ],\n",
       "       [1.   , 0.   , 0.   ],\n",
       "       [0.   , 0.975, 0.025],\n",
       "       [1.   , 0.   , 0.   ],\n",
       "       [0.   , 0.5  , 0.5  ],\n",
       "       [0.   , 0.   , 1.   ],\n",
       "       [1.   , 0.   , 0.   ],\n",
       "       [0.   , 0.   , 1.   ],\n",
       "       [1.   , 0.   , 0.   ],\n",
       "       [1.   , 0.   , 0.   ],\n",
       "       [0.   , 0.975, 0.025],\n",
       "       [1.   , 0.   , 0.   ],\n",
       "       [1.   , 0.   , 0.   ],\n",
       "       [0.   , 0.975, 0.025],\n",
       "       [0.   , 0.   , 1.   ],\n",
       "       [0.   , 0.975, 0.025],\n",
       "       [0.   , 0.975, 0.025],\n",
       "       [0.   , 0.975, 0.025],\n",
       "       [1.   , 0.   , 0.   ],\n",
       "       [1.   , 0.   , 0.   ],\n",
       "       [0.   , 0.975, 0.025],\n",
       "       [0.   , 0.   , 1.   ],\n",
       "       [1.   , 0.   , 0.   ],\n",
       "       [1.   , 0.   , 0.   ],\n",
       "       [0.   , 0.975, 0.025],\n",
       "       [0.   , 0.975, 0.025],\n",
       "       [0.   , 0.975, 0.025],\n",
       "       [0.   , 0.   , 1.   ],\n",
       "       [0.   , 0.975, 0.025],\n",
       "       [0.   , 0.975, 0.025],\n",
       "       [0.   , 0.975, 0.025],\n",
       "       [0.   , 0.   , 1.   ],\n",
       "       [1.   , 0.   , 0.   ],\n",
       "       [1.   , 0.   , 0.   ],\n",
       "       [0.   , 0.975, 0.025],\n",
       "       [0.   , 0.   , 1.   ],\n",
       "       [0.   , 0.   , 1.   ],\n",
       "       [0.   , 0.   , 1.   ],\n",
       "       [0.   , 0.   , 1.   ],\n",
       "       [1.   , 0.   , 0.   ],\n",
       "       [0.   , 0.975, 0.025],\n",
       "       [1.   , 0.   , 0.   ],\n",
       "       [0.   , 0.975, 0.025],\n",
       "       [0.   , 0.975, 0.025],\n",
       "       [1.   , 0.   , 0.   ],\n",
       "       [0.   , 0.975, 0.025],\n",
       "       [0.   , 0.   , 1.   ],\n",
       "       [0.   , 0.975, 0.025],\n",
       "       [0.   , 0.   , 1.   ],\n",
       "       [0.   , 0.   , 1.   ],\n",
       "       [1.   , 0.   , 0.   ],\n",
       "       [0.   , 0.975, 0.025],\n",
       "       [1.   , 0.   , 0.   ],\n",
       "       [0.   , 0.   , 1.   ],\n",
       "       [0.   , 0.   , 1.   ],\n",
       "       [0.   , 0.975, 0.025],\n",
       "       [0.   , 0.975, 0.025],\n",
       "       [0.   , 0.   , 1.   ],\n",
       "       [0.   , 0.975, 0.025],\n",
       "       [0.   , 0.975, 0.025],\n",
       "       [1.   , 0.   , 0.   ],\n",
       "       [0.   , 0.975, 0.025],\n",
       "       [0.   , 0.975, 0.025],\n",
       "       [0.   , 0.5  , 0.5  ],\n",
       "       [0.   , 0.   , 1.   ]])"
      ]
     },
     "execution_count": 51,
     "metadata": {},
     "output_type": "execute_result"
    }
   ],
   "source": [
    "# Check the probability \n",
    "y_pred_proba_tree = clf.predict_proba(X_train)\n",
    "y_pred_proba_tree"
   ]
  },
  {
   "cell_type": "markdown",
   "metadata": {},
   "source": [
    "### 2.) Evaluate your in-sample results using the model score, confusion matrix, and classification report."
   ]
  },
  {
   "cell_type": "code",
   "execution_count": 52,
   "metadata": {},
   "outputs": [
    {
     "name": "stdout",
     "output_type": "stream",
     "text": [
      "Accuracy of Decision Tree classifier on training set: 0.98\n"
     ]
    }
   ],
   "source": [
    "# Model Score\n",
    "print('Accuracy of Decision Tree classifier on training set: {:.2f}'\n",
    "     .format(clf.score(X_train, y_train)))"
   ]
  },
  {
   "cell_type": "code",
   "execution_count": 54,
   "metadata": {},
   "outputs": [
    {
     "name": "stdout",
     "output_type": "stream",
     "text": [
      "Confusion Matrix: \n",
      "\n",
      "             setosa  versicolor  virginica\n",
      "setosa          32           0          0\n",
      "versicolor       0          36          4\n",
      "virginica        0           1         32\n"
     ]
    }
   ],
   "source": [
    "# Confusion Matrix\n",
    "cmt = confusion_matrix(y_train,y_pred)\n",
    "labels=sorted(y_train.species.unique())\n",
    "pretty_cr=pd.DataFrame(cmt,index=labels,columns=labels)\n",
    "print('Confusion Matrix: \\n\\n', pretty_cr)"
   ]
  },
  {
   "cell_type": "code",
   "execution_count": 55,
   "metadata": {},
   "outputs": [
    {
     "name": "stdout",
     "output_type": "stream",
     "text": [
      "Classification Report: \n",
      "\n",
      "               precision    recall  f1-score   support\n",
      "\n",
      "      setosa       1.00      1.00      1.00        32\n",
      "  versicolor       0.97      0.90      0.94        40\n",
      "   virginica       0.89      0.97      0.93        33\n",
      "\n",
      "    accuracy                           0.95       105\n",
      "   macro avg       0.95      0.96      0.95       105\n",
      "weighted avg       0.95      0.95      0.95       105\n",
      "\n"
     ]
    }
   ],
   "source": [
    "# Classification Report\n",
    "crt=(classification_report(y_train,y_pred, output_dict=False))\n",
    "print(\"Classification Report: \\n\\n\",crt)"
   ]
  },
  {
   "cell_type": "code",
   "execution_count": null,
   "metadata": {},
   "outputs": [],
   "source": []
  },
  {
   "cell_type": "markdown",
   "metadata": {},
   "source": [
    "### 3.) Print and clearly label the following: Accuracy, true positive rate, false positive rate, true negative rate, false negative rate, precision, recall, f1-score, and support."
   ]
  },
  {
   "cell_type": "code",
   "execution_count": null,
   "metadata": {},
   "outputs": [],
   "source": []
  },
  {
   "cell_type": "markdown",
   "metadata": {},
   "source": [
    "### 4.) Look in the scikit-learn documentation to research the solver parameter. What is your best option(s) for the particular problem you are trying to solve and the data to be used?"
   ]
  },
  {
   "cell_type": "code",
   "execution_count": null,
   "metadata": {},
   "outputs": [],
   "source": []
  },
  {
   "cell_type": "markdown",
   "metadata": {},
   "source": [
    "### 5.) Run through steps 2-4 using another solver (from question 5)"
   ]
  },
  {
   "cell_type": "code",
   "execution_count": null,
   "metadata": {},
   "outputs": [],
   "source": []
  },
  {
   "cell_type": "markdown",
   "metadata": {},
   "source": [
    "### 6.) Which performs better on your in-sample data?"
   ]
  },
  {
   "cell_type": "code",
   "execution_count": null,
   "metadata": {},
   "outputs": [],
   "source": []
  }
 ],
 "metadata": {
  "kernelspec": {
   "display_name": "Python 3",
   "language": "python",
   "name": "python3"
  },
  "language_info": {
   "codemirror_mode": {
    "name": "ipython",
    "version": 3
   },
   "file_extension": ".py",
   "mimetype": "text/x-python",
   "name": "python",
   "nbconvert_exporter": "python",
   "pygments_lexer": "ipython3",
   "version": "3.7.3"
  }
 },
 "nbformat": 4,
 "nbformat_minor": 2
}
